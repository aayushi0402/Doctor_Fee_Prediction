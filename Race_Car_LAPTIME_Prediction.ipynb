{
 "cells": [
  {
   "cell_type": "code",
   "execution_count": 83,
   "id": "232806bd",
   "metadata": {},
   "outputs": [],
   "source": [
    "import pandas as pd\n",
    "import numpy as np\n",
    "import seaborn as sns\n",
    "import matplotlib.pyplot as plt"
   ]
  },
  {
   "cell_type": "code",
   "execution_count": 84,
   "id": "9130a431",
   "metadata": {},
   "outputs": [
    {
     "data": {
      "text/html": [
       "<div>\n",
       "<style scoped>\n",
       "    .dataframe tbody tr th:only-of-type {\n",
       "        vertical-align: middle;\n",
       "    }\n",
       "\n",
       "    .dataframe tbody tr th {\n",
       "        vertical-align: top;\n",
       "    }\n",
       "\n",
       "    .dataframe thead th {\n",
       "        text-align: right;\n",
       "    }\n",
       "</style>\n",
       "<table border=\"1\" class=\"dataframe\">\n",
       "  <thead>\n",
       "    <tr style=\"text-align: right;\">\n",
       "      <th></th>\n",
       "      <th>NUMBER</th>\n",
       "      <th>DRIVER_NUMBER</th>\n",
       "      <th>LAP_NUMBER</th>\n",
       "      <th>LAP_TIME</th>\n",
       "      <th>LAP_IMPROVEMENT</th>\n",
       "      <th>CROSSING_FINISH_LINE_IN_PIT</th>\n",
       "      <th>S1</th>\n",
       "      <th>S1_IMPROVEMENT</th>\n",
       "      <th>S2</th>\n",
       "      <th>S2_IMPROVEMENT</th>\n",
       "      <th>...</th>\n",
       "      <th>S1_LARGE</th>\n",
       "      <th>S2_LARGE</th>\n",
       "      <th>S3_LARGE</th>\n",
       "      <th>DRIVER_NAME</th>\n",
       "      <th>PIT_TIME</th>\n",
       "      <th>GROUP</th>\n",
       "      <th>TEAM</th>\n",
       "      <th>POWER</th>\n",
       "      <th>LOCATION</th>\n",
       "      <th>EVENT</th>\n",
       "    </tr>\n",
       "  </thead>\n",
       "  <tbody>\n",
       "    <tr>\n",
       "      <th>0</th>\n",
       "      <td>10</td>\n",
       "      <td>1</td>\n",
       "      <td>1</td>\n",
       "      <td>92</td>\n",
       "      <td>0</td>\n",
       "      <td>NaN</td>\n",
       "      <td>05:43.3</td>\n",
       "      <td>0</td>\n",
       "      <td>35.427</td>\n",
       "      <td>0</td>\n",
       "      <td>...</td>\n",
       "      <td>05:43.3</td>\n",
       "      <td>00:35.4</td>\n",
       "      <td>00:43.3</td>\n",
       "      <td>SB</td>\n",
       "      <td>05:14.7</td>\n",
       "      <td>NaN</td>\n",
       "      <td>JR</td>\n",
       "      <td>NaN</td>\n",
       "      <td>Location 2</td>\n",
       "      <td>Free Practice 2</td>\n",
       "    </tr>\n",
       "    <tr>\n",
       "      <th>1</th>\n",
       "      <td>10</td>\n",
       "      <td>1</td>\n",
       "      <td>2</td>\n",
       "      <td>87</td>\n",
       "      <td>2</td>\n",
       "      <td>NaN</td>\n",
       "      <td>25.674</td>\n",
       "      <td>2</td>\n",
       "      <td>33.399</td>\n",
       "      <td>2</td>\n",
       "      <td>...</td>\n",
       "      <td>00:25.7</td>\n",
       "      <td>00:33.4</td>\n",
       "      <td>00:41.9</td>\n",
       "      <td>SB</td>\n",
       "      <td>NaN</td>\n",
       "      <td>NaN</td>\n",
       "      <td>JR</td>\n",
       "      <td>NaN</td>\n",
       "      <td>Location 2</td>\n",
       "      <td>Free Practice 2</td>\n",
       "    </tr>\n",
       "    <tr>\n",
       "      <th>2</th>\n",
       "      <td>10</td>\n",
       "      <td>1</td>\n",
       "      <td>3</td>\n",
       "      <td>73</td>\n",
       "      <td>0</td>\n",
       "      <td>B</td>\n",
       "      <td>28.129</td>\n",
       "      <td>0</td>\n",
       "      <td>34.091</td>\n",
       "      <td>0</td>\n",
       "      <td>...</td>\n",
       "      <td>00:28.1</td>\n",
       "      <td>00:34.1</td>\n",
       "      <td>00:57.2</td>\n",
       "      <td>SB</td>\n",
       "      <td>NaN</td>\n",
       "      <td>NaN</td>\n",
       "      <td>JR</td>\n",
       "      <td>NaN</td>\n",
       "      <td>Location 2</td>\n",
       "      <td>Free Practice 2</td>\n",
       "    </tr>\n",
       "    <tr>\n",
       "      <th>3</th>\n",
       "      <td>11</td>\n",
       "      <td>1</td>\n",
       "      <td>1</td>\n",
       "      <td>73</td>\n",
       "      <td>0</td>\n",
       "      <td>NaN</td>\n",
       "      <td>01:05.0</td>\n",
       "      <td>0</td>\n",
       "      <td>38.416</td>\n",
       "      <td>0</td>\n",
       "      <td>...</td>\n",
       "      <td>01:05.0</td>\n",
       "      <td>00:38.4</td>\n",
       "      <td>00:56.8</td>\n",
       "      <td>LGRA</td>\n",
       "      <td>00:33.0</td>\n",
       "      <td>NaN</td>\n",
       "      <td>AD</td>\n",
       "      <td>NaN</td>\n",
       "      <td>Location 2</td>\n",
       "      <td>Free Practice 2</td>\n",
       "    </tr>\n",
       "    <tr>\n",
       "      <th>4</th>\n",
       "      <td>11</td>\n",
       "      <td>1</td>\n",
       "      <td>2</td>\n",
       "      <td>73</td>\n",
       "      <td>0</td>\n",
       "      <td>NaN</td>\n",
       "      <td>28.013</td>\n",
       "      <td>0</td>\n",
       "      <td>36.743</td>\n",
       "      <td>0</td>\n",
       "      <td>...</td>\n",
       "      <td>00:28.0</td>\n",
       "      <td>00:36.7</td>\n",
       "      <td>00:44.7</td>\n",
       "      <td>LGRA</td>\n",
       "      <td>NaN</td>\n",
       "      <td>NaN</td>\n",
       "      <td>AD</td>\n",
       "      <td>NaN</td>\n",
       "      <td>Location 2</td>\n",
       "      <td>Free Practice 2</td>\n",
       "    </tr>\n",
       "  </tbody>\n",
       "</table>\n",
       "<p>5 rows × 25 columns</p>\n",
       "</div>"
      ],
      "text/plain": [
       "   NUMBER  DRIVER_NUMBER  LAP_NUMBER  LAP_TIME  LAP_IMPROVEMENT  \\\n",
       "0      10              1           1        92                0   \n",
       "1      10              1           2        87                2   \n",
       "2      10              1           3        73                0   \n",
       "3      11              1           1        73                0   \n",
       "4      11              1           2        73                0   \n",
       "\n",
       "  CROSSING_FINISH_LINE_IN_PIT       S1  S1_IMPROVEMENT      S2  \\\n",
       "0                         NaN  05:43.3               0  35.427   \n",
       "1                         NaN   25.674               2  33.399   \n",
       "2                           B   28.129               0  34.091   \n",
       "3                         NaN  01:05.0               0  38.416   \n",
       "4                         NaN   28.013               0  36.743   \n",
       "\n",
       "   S2_IMPROVEMENT  ... S1_LARGE  S2_LARGE  S3_LARGE DRIVER_NAME PIT_TIME  \\\n",
       "0               0  ...  05:43.3   00:35.4   00:43.3          SB  05:14.7   \n",
       "1               2  ...  00:25.7   00:33.4   00:41.9          SB      NaN   \n",
       "2               0  ...  00:28.1   00:34.1   00:57.2          SB      NaN   \n",
       "3               0  ...  01:05.0   00:38.4   00:56.8        LGRA  00:33.0   \n",
       "4               0  ...  00:28.0   00:36.7   00:44.7        LGRA      NaN   \n",
       "\n",
       "  GROUP TEAM POWER    LOCATION            EVENT  \n",
       "0   NaN   JR   NaN  Location 2  Free Practice 2  \n",
       "1   NaN   JR   NaN  Location 2  Free Practice 2  \n",
       "2   NaN   JR   NaN  Location 2  Free Practice 2  \n",
       "3   NaN   AD   NaN  Location 2  Free Practice 2  \n",
       "4   NaN   AD   NaN  Location 2  Free Practice 2  \n",
       "\n",
       "[5 rows x 25 columns]"
      ]
     },
     "execution_count": 84,
     "metadata": {},
     "output_type": "execute_result"
    }
   ],
   "source": [
    "train = pd.read_csv(\"train.csv\",skipinitialspace = True)\n",
    "train.head()"
   ]
  },
  {
   "cell_type": "code",
   "execution_count": 85,
   "id": "7f5dbb14",
   "metadata": {},
   "outputs": [
    {
     "data": {
      "text/html": [
       "<div>\n",
       "<style scoped>\n",
       "    .dataframe tbody tr th:only-of-type {\n",
       "        vertical-align: middle;\n",
       "    }\n",
       "\n",
       "    .dataframe tbody tr th {\n",
       "        vertical-align: top;\n",
       "    }\n",
       "\n",
       "    .dataframe thead th {\n",
       "        text-align: right;\n",
       "    }\n",
       "</style>\n",
       "<table border=\"1\" class=\"dataframe\">\n",
       "  <thead>\n",
       "    <tr style=\"text-align: right;\">\n",
       "      <th></th>\n",
       "      <th>NUMBER</th>\n",
       "      <th>DRIVER_NUMBER</th>\n",
       "      <th>LAP_NUMBER</th>\n",
       "      <th>LAP_TIME</th>\n",
       "      <th>LAP_IMPROVEMENT</th>\n",
       "      <th>CROSSING_FINISH_LINE_IN_PIT</th>\n",
       "      <th>S1</th>\n",
       "      <th>S1_IMPROVEMENT</th>\n",
       "      <th>S2</th>\n",
       "      <th>S2_IMPROVEMENT</th>\n",
       "      <th>...</th>\n",
       "      <th>S1_LARGE</th>\n",
       "      <th>S2_LARGE</th>\n",
       "      <th>S3_LARGE</th>\n",
       "      <th>DRIVER_NAME</th>\n",
       "      <th>PIT_TIME</th>\n",
       "      <th>GROUP</th>\n",
       "      <th>TEAM</th>\n",
       "      <th>POWER</th>\n",
       "      <th>LOCATION</th>\n",
       "      <th>EVENT</th>\n",
       "    </tr>\n",
       "  </thead>\n",
       "  <tbody>\n",
       "    <tr>\n",
       "      <th>0</th>\n",
       "      <td>10</td>\n",
       "      <td>1</td>\n",
       "      <td>1</td>\n",
       "      <td>NaN</td>\n",
       "      <td>0</td>\n",
       "      <td>NaN</td>\n",
       "      <td>01:10.2</td>\n",
       "      <td>0</td>\n",
       "      <td>35.433</td>\n",
       "      <td>0</td>\n",
       "      <td>...</td>\n",
       "      <td>01:10.2</td>\n",
       "      <td>00:35.4</td>\n",
       "      <td>00:30.7</td>\n",
       "      <td>SB</td>\n",
       "      <td>00:47.0</td>\n",
       "      <td>1.0</td>\n",
       "      <td>JR</td>\n",
       "      <td>NaN</td>\n",
       "      <td>Location 7</td>\n",
       "      <td>Qualifying Group 1</td>\n",
       "    </tr>\n",
       "    <tr>\n",
       "      <th>1</th>\n",
       "      <td>10</td>\n",
       "      <td>1</td>\n",
       "      <td>2</td>\n",
       "      <td>NaN</td>\n",
       "      <td>0</td>\n",
       "      <td>NaN</td>\n",
       "      <td>27.667</td>\n",
       "      <td>0</td>\n",
       "      <td>33.68</td>\n",
       "      <td>0</td>\n",
       "      <td>...</td>\n",
       "      <td>00:27.7</td>\n",
       "      <td>00:33.7</td>\n",
       "      <td>00:37.8</td>\n",
       "      <td>SB</td>\n",
       "      <td>NaN</td>\n",
       "      <td>1.0</td>\n",
       "      <td>JR</td>\n",
       "      <td>250.0</td>\n",
       "      <td>Location 7</td>\n",
       "      <td>Qualifying Group 1</td>\n",
       "    </tr>\n",
       "    <tr>\n",
       "      <th>2</th>\n",
       "      <td>10</td>\n",
       "      <td>1</td>\n",
       "      <td>3</td>\n",
       "      <td>NaN</td>\n",
       "      <td>2</td>\n",
       "      <td>NaN</td>\n",
       "      <td>24.688</td>\n",
       "      <td>2</td>\n",
       "      <td>29.309</td>\n",
       "      <td>2</td>\n",
       "      <td>...</td>\n",
       "      <td>00:24.7</td>\n",
       "      <td>00:29.3</td>\n",
       "      <td>00:27.1</td>\n",
       "      <td>SB</td>\n",
       "      <td>NaN</td>\n",
       "      <td>1.0</td>\n",
       "      <td>JR</td>\n",
       "      <td>250.0</td>\n",
       "      <td>Location 7</td>\n",
       "      <td>Qualifying Group 1</td>\n",
       "    </tr>\n",
       "    <tr>\n",
       "      <th>3</th>\n",
       "      <td>13</td>\n",
       "      <td>1</td>\n",
       "      <td>1</td>\n",
       "      <td>NaN</td>\n",
       "      <td>0</td>\n",
       "      <td>NaN</td>\n",
       "      <td>01:09.1</td>\n",
       "      <td>0</td>\n",
       "      <td>35.705</td>\n",
       "      <td>0</td>\n",
       "      <td>...</td>\n",
       "      <td>01:09.1</td>\n",
       "      <td>00:35.7</td>\n",
       "      <td>00:30.5</td>\n",
       "      <td>ACO</td>\n",
       "      <td>00:44.7</td>\n",
       "      <td>1.0</td>\n",
       "      <td>DSo</td>\n",
       "      <td>NaN</td>\n",
       "      <td>Location 7</td>\n",
       "      <td>Qualifying Group 1</td>\n",
       "    </tr>\n",
       "    <tr>\n",
       "      <th>4</th>\n",
       "      <td>13</td>\n",
       "      <td>1</td>\n",
       "      <td>2</td>\n",
       "      <td>NaN</td>\n",
       "      <td>0</td>\n",
       "      <td>NaN</td>\n",
       "      <td>28.401</td>\n",
       "      <td>0</td>\n",
       "      <td>33.693</td>\n",
       "      <td>0</td>\n",
       "      <td>...</td>\n",
       "      <td>00:28.4</td>\n",
       "      <td>00:33.7</td>\n",
       "      <td>00:36.0</td>\n",
       "      <td>ACO</td>\n",
       "      <td>NaN</td>\n",
       "      <td>1.0</td>\n",
       "      <td>DSo</td>\n",
       "      <td>250.0</td>\n",
       "      <td>Location 7</td>\n",
       "      <td>Qualifying Group 1</td>\n",
       "    </tr>\n",
       "  </tbody>\n",
       "</table>\n",
       "<p>5 rows × 25 columns</p>\n",
       "</div>"
      ],
      "text/plain": [
       "   NUMBER  DRIVER_NUMBER  LAP_NUMBER  LAP_TIME  LAP_IMPROVEMENT  \\\n",
       "0      10              1           1       NaN                0   \n",
       "1      10              1           2       NaN                0   \n",
       "2      10              1           3       NaN                2   \n",
       "3      13              1           1       NaN                0   \n",
       "4      13              1           2       NaN                0   \n",
       "\n",
       "  CROSSING_FINISH_LINE_IN_PIT       S1  S1_IMPROVEMENT      S2  \\\n",
       "0                         NaN  01:10.2               0  35.433   \n",
       "1                         NaN   27.667               0   33.68   \n",
       "2                         NaN   24.688               2  29.309   \n",
       "3                         NaN  01:09.1               0  35.705   \n",
       "4                         NaN   28.401               0  33.693   \n",
       "\n",
       "   S2_IMPROVEMENT  ... S1_LARGE  S2_LARGE  S3_LARGE DRIVER_NAME PIT_TIME  \\\n",
       "0               0  ...  01:10.2   00:35.4   00:30.7          SB  00:47.0   \n",
       "1               0  ...  00:27.7   00:33.7   00:37.8          SB      NaN   \n",
       "2               2  ...  00:24.7   00:29.3   00:27.1          SB      NaN   \n",
       "3               0  ...  01:09.1   00:35.7   00:30.5         ACO  00:44.7   \n",
       "4               0  ...  00:28.4   00:33.7   00:36.0         ACO      NaN   \n",
       "\n",
       "  GROUP TEAM  POWER    LOCATION               EVENT  \n",
       "0   1.0   JR    NaN  Location 7  Qualifying Group 1  \n",
       "1   1.0   JR  250.0  Location 7  Qualifying Group 1  \n",
       "2   1.0   JR  250.0  Location 7  Qualifying Group 1  \n",
       "3   1.0  DSo    NaN  Location 7  Qualifying Group 1  \n",
       "4   1.0  DSo  250.0  Location 7  Qualifying Group 1  \n",
       "\n",
       "[5 rows x 25 columns]"
      ]
     },
     "execution_count": 85,
     "metadata": {},
     "output_type": "execute_result"
    }
   ],
   "source": [
    "test = pd.read_csv(\"test.csv\", skipinitialspace = True)\n",
    "test.head()"
   ]
  },
  {
   "cell_type": "code",
   "execution_count": 86,
   "id": "237662d7",
   "metadata": {},
   "outputs": [
    {
     "name": "stdout",
     "output_type": "stream",
     "text": [
      "<class 'pandas.core.frame.DataFrame'>\n",
      "RangeIndex: 420 entries, 0 to 419\n",
      "Data columns (total 25 columns):\n",
      " #   Column                       Non-Null Count  Dtype  \n",
      "---  ------                       --------------  -----  \n",
      " 0   NUMBER                       420 non-null    int64  \n",
      " 1   DRIVER_NUMBER                420 non-null    int64  \n",
      " 2   LAP_NUMBER                   420 non-null    int64  \n",
      " 3   LAP_TIME                     0 non-null      float64\n",
      " 4   LAP_IMPROVEMENT              420 non-null    int64  \n",
      " 5   CROSSING_FINISH_LINE_IN_PIT  16 non-null     object \n",
      " 6   S1                           420 non-null    object \n",
      " 7   S1_IMPROVEMENT               420 non-null    int64  \n",
      " 8   S2                           420 non-null    object \n",
      " 9   S2_IMPROVEMENT               420 non-null    int64  \n",
      " 10  S3                           418 non-null    object \n",
      " 11  S3_IMPROVEMENT               420 non-null    int64  \n",
      " 12  KPH                          418 non-null    float64\n",
      " 13  ELAPSED                      420 non-null    object \n",
      " 14  HOUR                         420 non-null    object \n",
      " 15  S1_LARGE                     420 non-null    object \n",
      " 16  S2_LARGE                     420 non-null    object \n",
      " 17  S3_LARGE                     418 non-null    object \n",
      " 18  DRIVER_NAME                  420 non-null    object \n",
      " 19  PIT_TIME                     155 non-null    object \n",
      " 20  GROUP                        391 non-null    float64\n",
      " 21  TEAM                         420 non-null    object \n",
      " 22  POWER                        309 non-null    float64\n",
      " 23  LOCATION                     420 non-null    object \n",
      " 24  EVENT                        420 non-null    object \n",
      "dtypes: float64(4), int64(7), object(14)\n",
      "memory usage: 82.2+ KB\n"
     ]
    }
   ],
   "source": [
    "test.info()"
   ]
  },
  {
   "cell_type": "code",
   "execution_count": 87,
   "id": "049ff12b",
   "metadata": {},
   "outputs": [
    {
     "name": "stdout",
     "output_type": "stream",
     "text": [
      "<class 'pandas.core.frame.DataFrame'>\n",
      "RangeIndex: 10276 entries, 0 to 10275\n",
      "Data columns (total 25 columns):\n",
      " #   Column                       Non-Null Count  Dtype  \n",
      "---  ------                       --------------  -----  \n",
      " 0   NUMBER                       10276 non-null  int64  \n",
      " 1   DRIVER_NUMBER                10276 non-null  int64  \n",
      " 2   LAP_NUMBER                   10276 non-null  int64  \n",
      " 3   LAP_TIME                     10276 non-null  int64  \n",
      " 4   LAP_IMPROVEMENT              10276 non-null  int64  \n",
      " 5   CROSSING_FINISH_LINE_IN_PIT  1234 non-null   object \n",
      " 6   S1                           10272 non-null  object \n",
      " 7   S1_IMPROVEMENT               10276 non-null  int64  \n",
      " 8   S2                           10268 non-null  object \n",
      " 9   S2_IMPROVEMENT               10276 non-null  int64  \n",
      " 10  S3                           10242 non-null  object \n",
      " 11  S3_IMPROVEMENT               10276 non-null  int64  \n",
      " 12  KPH                          10246 non-null  float64\n",
      " 13  ELAPSED                      10276 non-null  object \n",
      " 14  HOUR                         10276 non-null  object \n",
      " 15  S1_LARGE                     10272 non-null  object \n",
      " 16  S2_LARGE                     10268 non-null  object \n",
      " 17  S3_LARGE                     10242 non-null  object \n",
      " 18  DRIVER_NAME                  10276 non-null  object \n",
      " 19  PIT_TIME                     1898 non-null   object \n",
      " 20  GROUP                        508 non-null    float64\n",
      " 21  TEAM                         10276 non-null  object \n",
      " 22  POWER                        2903 non-null   float64\n",
      " 23  LOCATION                     10276 non-null  object \n",
      " 24  EVENT                        10276 non-null  object \n",
      "dtypes: float64(3), int64(8), object(14)\n",
      "memory usage: 2.0+ MB\n"
     ]
    }
   ],
   "source": [
    "train.info()"
   ]
  },
  {
   "cell_type": "code",
   "execution_count": 88,
   "id": "a6af0886",
   "metadata": {},
   "outputs": [
    {
     "data": {
      "text/html": [
       "<div>\n",
       "<style scoped>\n",
       "    .dataframe tbody tr th:only-of-type {\n",
       "        vertical-align: middle;\n",
       "    }\n",
       "\n",
       "    .dataframe tbody tr th {\n",
       "        vertical-align: top;\n",
       "    }\n",
       "\n",
       "    .dataframe thead th {\n",
       "        text-align: right;\n",
       "    }\n",
       "</style>\n",
       "<table border=\"1\" class=\"dataframe\">\n",
       "  <thead>\n",
       "    <tr style=\"text-align: right;\">\n",
       "      <th></th>\n",
       "      <th>NUMBER</th>\n",
       "      <th>DRIVER_NUMBER</th>\n",
       "      <th>LAP_NUMBER</th>\n",
       "      <th>LAP_TIME</th>\n",
       "      <th>LAP_IMPROVEMENT</th>\n",
       "      <th>S1_IMPROVEMENT</th>\n",
       "      <th>S2_IMPROVEMENT</th>\n",
       "      <th>S3_IMPROVEMENT</th>\n",
       "      <th>KPH</th>\n",
       "      <th>GROUP</th>\n",
       "      <th>POWER</th>\n",
       "    </tr>\n",
       "  </thead>\n",
       "  <tbody>\n",
       "    <tr>\n",
       "      <th>count</th>\n",
       "      <td>10276.000000</td>\n",
       "      <td>10276.0</td>\n",
       "      <td>10276.000000</td>\n",
       "      <td>10276.000000</td>\n",
       "      <td>10276.000000</td>\n",
       "      <td>10276.000000</td>\n",
       "      <td>10276.000000</td>\n",
       "      <td>10276.000000</td>\n",
       "      <td>10246.000000</td>\n",
       "      <td>508.000000</td>\n",
       "      <td>2903.000000</td>\n",
       "    </tr>\n",
       "    <tr>\n",
       "      <th>mean</th>\n",
       "      <td>32.379525</td>\n",
       "      <td>1.0</td>\n",
       "      <td>9.682951</td>\n",
       "      <td>92.670884</td>\n",
       "      <td>0.153464</td>\n",
       "      <td>0.151907</td>\n",
       "      <td>0.153854</td>\n",
       "      <td>0.154729</td>\n",
       "      <td>99.864981</td>\n",
       "      <td>2.557087</td>\n",
       "      <td>245.277299</td>\n",
       "    </tr>\n",
       "    <tr>\n",
       "      <th>std</th>\n",
       "      <td>28.226960</td>\n",
       "      <td>0.0</td>\n",
       "      <td>6.206700</td>\n",
       "      <td>26.206425</td>\n",
       "      <td>0.557103</td>\n",
       "      <td>0.554203</td>\n",
       "      <td>0.557869</td>\n",
       "      <td>0.560325</td>\n",
       "      <td>30.054048</td>\n",
       "      <td>1.122958</td>\n",
       "      <td>6.968022</td>\n",
       "    </tr>\n",
       "    <tr>\n",
       "      <th>min</th>\n",
       "      <td>4.000000</td>\n",
       "      <td>1.0</td>\n",
       "      <td>1.000000</td>\n",
       "      <td>0.000000</td>\n",
       "      <td>0.000000</td>\n",
       "      <td>0.000000</td>\n",
       "      <td>0.000000</td>\n",
       "      <td>0.000000</td>\n",
       "      <td>4.400000</td>\n",
       "      <td>1.000000</td>\n",
       "      <td>235.000000</td>\n",
       "    </tr>\n",
       "    <tr>\n",
       "      <th>25%</th>\n",
       "      <td>11.000000</td>\n",
       "      <td>1.0</td>\n",
       "      <td>4.000000</td>\n",
       "      <td>75.000000</td>\n",
       "      <td>0.000000</td>\n",
       "      <td>0.000000</td>\n",
       "      <td>0.000000</td>\n",
       "      <td>0.000000</td>\n",
       "      <td>89.400000</td>\n",
       "      <td>2.000000</td>\n",
       "      <td>235.000000</td>\n",
       "    </tr>\n",
       "    <tr>\n",
       "      <th>50%</th>\n",
       "      <td>25.000000</td>\n",
       "      <td>1.0</td>\n",
       "      <td>9.000000</td>\n",
       "      <td>89.000000</td>\n",
       "      <td>0.000000</td>\n",
       "      <td>0.000000</td>\n",
       "      <td>0.000000</td>\n",
       "      <td>0.000000</td>\n",
       "      <td>109.900000</td>\n",
       "      <td>3.000000</td>\n",
       "      <td>250.000000</td>\n",
       "    </tr>\n",
       "    <tr>\n",
       "      <th>75%</th>\n",
       "      <td>37.000000</td>\n",
       "      <td>1.0</td>\n",
       "      <td>14.000000</td>\n",
       "      <td>103.000000</td>\n",
       "      <td>0.000000</td>\n",
       "      <td>0.000000</td>\n",
       "      <td>0.000000</td>\n",
       "      <td>0.000000</td>\n",
       "      <td>121.400000</td>\n",
       "      <td>4.000000</td>\n",
       "      <td>250.000000</td>\n",
       "    </tr>\n",
       "    <tr>\n",
       "      <th>max</th>\n",
       "      <td>99.000000</td>\n",
       "      <td>1.0</td>\n",
       "      <td>31.000000</td>\n",
       "      <td>199.000000</td>\n",
       "      <td>4.000000</td>\n",
       "      <td>4.000000</td>\n",
       "      <td>4.000000</td>\n",
       "      <td>4.000000</td>\n",
       "      <td>140.000000</td>\n",
       "      <td>4.000000</td>\n",
       "      <td>250.000000</td>\n",
       "    </tr>\n",
       "  </tbody>\n",
       "</table>\n",
       "</div>"
      ],
      "text/plain": [
       "             NUMBER  DRIVER_NUMBER    LAP_NUMBER      LAP_TIME  \\\n",
       "count  10276.000000        10276.0  10276.000000  10276.000000   \n",
       "mean      32.379525            1.0      9.682951     92.670884   \n",
       "std       28.226960            0.0      6.206700     26.206425   \n",
       "min        4.000000            1.0      1.000000      0.000000   \n",
       "25%       11.000000            1.0      4.000000     75.000000   \n",
       "50%       25.000000            1.0      9.000000     89.000000   \n",
       "75%       37.000000            1.0     14.000000    103.000000   \n",
       "max       99.000000            1.0     31.000000    199.000000   \n",
       "\n",
       "       LAP_IMPROVEMENT  S1_IMPROVEMENT  S2_IMPROVEMENT  S3_IMPROVEMENT  \\\n",
       "count     10276.000000    10276.000000    10276.000000    10276.000000   \n",
       "mean          0.153464        0.151907        0.153854        0.154729   \n",
       "std           0.557103        0.554203        0.557869        0.560325   \n",
       "min           0.000000        0.000000        0.000000        0.000000   \n",
       "25%           0.000000        0.000000        0.000000        0.000000   \n",
       "50%           0.000000        0.000000        0.000000        0.000000   \n",
       "75%           0.000000        0.000000        0.000000        0.000000   \n",
       "max           4.000000        4.000000        4.000000        4.000000   \n",
       "\n",
       "                KPH       GROUP        POWER  \n",
       "count  10246.000000  508.000000  2903.000000  \n",
       "mean      99.864981    2.557087   245.277299  \n",
       "std       30.054048    1.122958     6.968022  \n",
       "min        4.400000    1.000000   235.000000  \n",
       "25%       89.400000    2.000000   235.000000  \n",
       "50%      109.900000    3.000000   250.000000  \n",
       "75%      121.400000    4.000000   250.000000  \n",
       "max      140.000000    4.000000   250.000000  "
      ]
     },
     "execution_count": 88,
     "metadata": {},
     "output_type": "execute_result"
    }
   ],
   "source": [
    "train.describe()"
   ]
  },
  {
   "cell_type": "code",
   "execution_count": 89,
   "id": "47c05517",
   "metadata": {},
   "outputs": [
    {
     "data": {
      "text/plain": [
       "NUMBER                          0.000000\n",
       "DRIVER_NUMBER                   0.000000\n",
       "LAP_NUMBER                      0.000000\n",
       "LAP_TIME                        0.000000\n",
       "LAP_IMPROVEMENT                 0.000000\n",
       "CROSSING_FINISH_LINE_IN_PIT    87.991436\n",
       "S1                              0.038926\n",
       "S1_IMPROVEMENT                  0.000000\n",
       "S2                              0.077851\n",
       "S2_IMPROVEMENT                  0.000000\n",
       "S3                              0.330868\n",
       "S3_IMPROVEMENT                  0.000000\n",
       "KPH                             0.291942\n",
       "ELAPSED                         0.000000\n",
       "HOUR                            0.000000\n",
       "S1_LARGE                        0.038926\n",
       "S2_LARGE                        0.077851\n",
       "S3_LARGE                        0.330868\n",
       "DRIVER_NAME                     0.000000\n",
       "PIT_TIME                       81.529778\n",
       "GROUP                          95.056442\n",
       "TEAM                            0.000000\n",
       "POWER                          71.749708\n",
       "LOCATION                        0.000000\n",
       "EVENT                           0.000000\n",
       "dtype: float64"
      ]
     },
     "execution_count": 89,
     "metadata": {},
     "output_type": "execute_result"
    }
   ],
   "source": [
    "train.isnull().mean() * 100"
   ]
  },
  {
   "cell_type": "code",
   "execution_count": 90,
   "id": "38980647",
   "metadata": {},
   "outputs": [
    {
     "data": {
      "text/plain": [
       "(10276, 25)"
      ]
     },
     "execution_count": 90,
     "metadata": {},
     "output_type": "execute_result"
    }
   ],
   "source": [
    "train.shape"
   ]
  },
  {
   "cell_type": "markdown",
   "id": "aeb12524",
   "metadata": {},
   "source": [
    "## "
   ]
  },
  {
   "cell_type": "code",
   "execution_count": 91,
   "id": "a9446285",
   "metadata": {},
   "outputs": [
    {
     "data": {
      "text/plain": [
       "(420, 25)"
      ]
     },
     "execution_count": 91,
     "metadata": {},
     "output_type": "execute_result"
    }
   ],
   "source": [
    "test.shape"
   ]
  },
  {
   "cell_type": "code",
   "execution_count": 92,
   "id": "0f1ca568",
   "metadata": {},
   "outputs": [
    {
     "data": {
      "text/html": [
       "<div>\n",
       "<style scoped>\n",
       "    .dataframe tbody tr th:only-of-type {\n",
       "        vertical-align: middle;\n",
       "    }\n",
       "\n",
       "    .dataframe tbody tr th {\n",
       "        vertical-align: top;\n",
       "    }\n",
       "\n",
       "    .dataframe thead th {\n",
       "        text-align: right;\n",
       "    }\n",
       "</style>\n",
       "<table border=\"1\" class=\"dataframe\">\n",
       "  <thead>\n",
       "    <tr style=\"text-align: right;\">\n",
       "      <th></th>\n",
       "      <th>ELAPSED</th>\n",
       "      <th>S1</th>\n",
       "      <th>S2</th>\n",
       "      <th>S3</th>\n",
       "      <th>S1_LARGE</th>\n",
       "      <th>S2_LARGE</th>\n",
       "      <th>S3_LARGE</th>\n",
       "      <th>PIT_TIME</th>\n",
       "      <th>HOUR</th>\n",
       "    </tr>\n",
       "  </thead>\n",
       "  <tbody>\n",
       "    <tr>\n",
       "      <th>0</th>\n",
       "      <td>07:02.0</td>\n",
       "      <td>05:43.3</td>\n",
       "      <td>35.427</td>\n",
       "      <td>43.313</td>\n",
       "      <td>05:43.3</td>\n",
       "      <td>00:35.4</td>\n",
       "      <td>00:43.3</td>\n",
       "      <td>05:14.7</td>\n",
       "      <td>22:02.0</td>\n",
       "    </tr>\n",
       "    <tr>\n",
       "      <th>1</th>\n",
       "      <td>08:43.0</td>\n",
       "      <td>25.674</td>\n",
       "      <td>33.399</td>\n",
       "      <td>41.922</td>\n",
       "      <td>00:25.7</td>\n",
       "      <td>00:33.4</td>\n",
       "      <td>00:41.9</td>\n",
       "      <td>NaN</td>\n",
       "      <td>23:43.0</td>\n",
       "    </tr>\n",
       "    <tr>\n",
       "      <th>2</th>\n",
       "      <td>10:42.5</td>\n",
       "      <td>28.129</td>\n",
       "      <td>34.091</td>\n",
       "      <td>57.248</td>\n",
       "      <td>00:28.1</td>\n",
       "      <td>00:34.1</td>\n",
       "      <td>00:57.2</td>\n",
       "      <td>NaN</td>\n",
       "      <td>25:42.5</td>\n",
       "    </tr>\n",
       "    <tr>\n",
       "      <th>3</th>\n",
       "      <td>02:40.2</td>\n",
       "      <td>01:05.0</td>\n",
       "      <td>38.416</td>\n",
       "      <td>56.833</td>\n",
       "      <td>01:05.0</td>\n",
       "      <td>00:38.4</td>\n",
       "      <td>00:56.8</td>\n",
       "      <td>00:33.0</td>\n",
       "      <td>17:40.2</td>\n",
       "    </tr>\n",
       "    <tr>\n",
       "      <th>4</th>\n",
       "      <td>04:29.7</td>\n",
       "      <td>28.013</td>\n",
       "      <td>36.743</td>\n",
       "      <td>44.716</td>\n",
       "      <td>00:28.0</td>\n",
       "      <td>00:36.7</td>\n",
       "      <td>00:44.7</td>\n",
       "      <td>NaN</td>\n",
       "      <td>19:29.7</td>\n",
       "    </tr>\n",
       "    <tr>\n",
       "      <th>...</th>\n",
       "      <td>...</td>\n",
       "      <td>...</td>\n",
       "      <td>...</td>\n",
       "      <td>...</td>\n",
       "      <td>...</td>\n",
       "      <td>...</td>\n",
       "      <td>...</td>\n",
       "      <td>...</td>\n",
       "      <td>...</td>\n",
       "    </tr>\n",
       "    <tr>\n",
       "      <th>10271</th>\n",
       "      <td>23:54.7</td>\n",
       "      <td>22.936</td>\n",
       "      <td>21.231</td>\n",
       "      <td>23.701</td>\n",
       "      <td>00:22.9</td>\n",
       "      <td>00:21.2</td>\n",
       "      <td>00:23.7</td>\n",
       "      <td>NaN</td>\n",
       "      <td>23:54.7</td>\n",
       "    </tr>\n",
       "    <tr>\n",
       "      <th>10272</th>\n",
       "      <td>25:11.0</td>\n",
       "      <td>23.61</td>\n",
       "      <td>22.432</td>\n",
       "      <td>30.281</td>\n",
       "      <td>00:23.6</td>\n",
       "      <td>00:22.4</td>\n",
       "      <td>00:30.3</td>\n",
       "      <td>NaN</td>\n",
       "      <td>25:11.0</td>\n",
       "    </tr>\n",
       "    <tr>\n",
       "      <th>10273</th>\n",
       "      <td>28:15.1</td>\n",
       "      <td>02:17.1</td>\n",
       "      <td>22.681</td>\n",
       "      <td>24.308</td>\n",
       "      <td>02:17.1</td>\n",
       "      <td>00:22.7</td>\n",
       "      <td>00:24.3</td>\n",
       "      <td>01:59.9</td>\n",
       "      <td>28:15.1</td>\n",
       "    </tr>\n",
       "    <tr>\n",
       "      <th>10274</th>\n",
       "      <td>29:22.3</td>\n",
       "      <td>22.539</td>\n",
       "      <td>21.057</td>\n",
       "      <td>23.548</td>\n",
       "      <td>00:22.5</td>\n",
       "      <td>00:21.1</td>\n",
       "      <td>00:23.5</td>\n",
       "      <td>NaN</td>\n",
       "      <td>29:22.3</td>\n",
       "    </tr>\n",
       "    <tr>\n",
       "      <th>10275</th>\n",
       "      <td>30:31.5</td>\n",
       "      <td>23.193</td>\n",
       "      <td>22.026</td>\n",
       "      <td>24.056</td>\n",
       "      <td>00:23.2</td>\n",
       "      <td>00:22.0</td>\n",
       "      <td>00:24.1</td>\n",
       "      <td>NaN</td>\n",
       "      <td>30:31.5</td>\n",
       "    </tr>\n",
       "  </tbody>\n",
       "</table>\n",
       "<p>10276 rows × 9 columns</p>\n",
       "</div>"
      ],
      "text/plain": [
       "       ELAPSED       S1      S2      S3 S1_LARGE S2_LARGE S3_LARGE PIT_TIME  \\\n",
       "0      07:02.0  05:43.3  35.427  43.313  05:43.3  00:35.4  00:43.3  05:14.7   \n",
       "1      08:43.0   25.674  33.399  41.922  00:25.7  00:33.4  00:41.9      NaN   \n",
       "2      10:42.5   28.129  34.091  57.248  00:28.1  00:34.1  00:57.2      NaN   \n",
       "3      02:40.2  01:05.0  38.416  56.833  01:05.0  00:38.4  00:56.8  00:33.0   \n",
       "4      04:29.7   28.013  36.743  44.716  00:28.0  00:36.7  00:44.7      NaN   \n",
       "...        ...      ...     ...     ...      ...      ...      ...      ...   \n",
       "10271  23:54.7   22.936  21.231  23.701  00:22.9  00:21.2  00:23.7      NaN   \n",
       "10272  25:11.0    23.61  22.432  30.281  00:23.6  00:22.4  00:30.3      NaN   \n",
       "10273  28:15.1  02:17.1  22.681  24.308  02:17.1  00:22.7  00:24.3  01:59.9   \n",
       "10274  29:22.3   22.539  21.057  23.548  00:22.5  00:21.1  00:23.5      NaN   \n",
       "10275  30:31.5   23.193  22.026  24.056  00:23.2  00:22.0  00:24.1      NaN   \n",
       "\n",
       "          HOUR  \n",
       "0      22:02.0  \n",
       "1      23:43.0  \n",
       "2      25:42.5  \n",
       "3      17:40.2  \n",
       "4      19:29.7  \n",
       "...        ...  \n",
       "10271  23:54.7  \n",
       "10272  25:11.0  \n",
       "10273  28:15.1  \n",
       "10274  29:22.3  \n",
       "10275  30:31.5  \n",
       "\n",
       "[10276 rows x 9 columns]"
      ]
     },
     "execution_count": 92,
     "metadata": {},
     "output_type": "execute_result"
    }
   ],
   "source": [
    "train[['ELAPSED', 'S1', 'S2', 'S3', 'S1_LARGE', 'S2_LARGE', 'S3_LARGE', 'PIT_TIME', 'HOUR']]"
   ]
  },
  {
   "cell_type": "code",
   "execution_count": 93,
   "id": "a8a7f65a",
   "metadata": {},
   "outputs": [],
   "source": [
    "def converter(strin):\n",
    "    if ':' in strin and '.' in strin:\n",
    "        minu=strin.split(':')[0]\n",
    "        sec=strin.split(':')[1].split('.')[0]\n",
    "        micr=strin.split(':')[1].split('.')[1]\n",
    "        seconds = float(minu)*60 + float(sec) + float(micr)/1000000\n",
    "    elif ':' in strin and '.' not in strin:\n",
    "        minu=strin.split(':')[0]\n",
    "        sec=strin.split(':')[1]\n",
    "        micr = 0\n",
    "        seconds = float(minu)*60 + float(sec)\n",
    "    elif '.' in strin and ':' not in strin:\n",
    "        minu = 0\n",
    "        sec=strin.split('.')[0]\n",
    "        micr=strin.split('.')[1]\n",
    "        seconds = float(minu)*60 + float(sec) + float(micr)/1000000\n",
    "    else:\n",
    "        minu = float(strin)\n",
    "        sec=0\n",
    "        micr=0\n",
    "        seconds = float(minu)*60 + float(sec) + float(micr)/1000000\n",
    "    return seconds\n",
    "\n",
    "\n",
    "from datetime import timedelta\n",
    "def converter1(strin):\n",
    "    if ':' in strin and '.' in strin:\n",
    "        minu=strin.split(':')[0]\n",
    "        sec=strin.split(':')[1].split('.')[0]\n",
    "        micr=strin.split(':')[1].split('.')[1]\n",
    "        td = timedelta(minutes=float(minu), seconds=float(sec), microseconds=float(micr))\n",
    "    elif ':' in strin and '.' not in strin:\n",
    "        minu=strin.split(':')[0]\n",
    "        sec=strin.split(':')[1]\n",
    "        micr = 0\n",
    "        td = timedelta(minutes=float(minu), seconds=float(sec), microseconds=float(micr))\n",
    "    elif '.' in strin and ':' not in strin:\n",
    "        minu = 0\n",
    "        sec=strin.split('.')[0]\n",
    "        micr=strin.split('.')[1]\n",
    "        td = timedelta(minutes=float(minu), seconds=float(sec), microseconds=float(micr))\n",
    "    else:\n",
    "        minu = int(strin)\n",
    "        sec=0\n",
    "        micr=0\n",
    "        td = timedelta(minutes=minu)\n",
    "    return td.total_seconds()"
   ]
  },
  {
   "cell_type": "code",
   "execution_count": 94,
   "id": "91622c45",
   "metadata": {},
   "outputs": [],
   "source": [
    "time_cols = ['ELAPSED', 'S1', 'S2', 'S3', 'S1_LARGE', 'S2_LARGE', 'S3_LARGE', 'PIT_TIME', 'HOUR']\n",
    "for column in time_cols:\n",
    "    train[column] = train[column].astype(str).apply(converter)"
   ]
  },
  {
   "cell_type": "code",
   "execution_count": 95,
   "id": "7dc75119",
   "metadata": {},
   "outputs": [],
   "source": [
    "#Let us do the same for the test data, so that both train and test data are similar\n",
    "time_cols = ['ELAPSED', 'S1', 'S2', 'S3', 'S1_LARGE', 'S2_LARGE', 'S3_LARGE', 'PIT_TIME', 'HOUR']\n",
    "for column in time_cols:\n",
    "    test[column] = test[column].astype(str).apply(converter)"
   ]
  },
  {
   "cell_type": "code",
   "execution_count": 96,
   "id": "0aaa300a",
   "metadata": {},
   "outputs": [
    {
     "data": {
      "text/html": [
       "<div>\n",
       "<style scoped>\n",
       "    .dataframe tbody tr th:only-of-type {\n",
       "        vertical-align: middle;\n",
       "    }\n",
       "\n",
       "    .dataframe tbody tr th {\n",
       "        vertical-align: top;\n",
       "    }\n",
       "\n",
       "    .dataframe thead th {\n",
       "        text-align: right;\n",
       "    }\n",
       "</style>\n",
       "<table border=\"1\" class=\"dataframe\">\n",
       "  <thead>\n",
       "    <tr style=\"text-align: right;\">\n",
       "      <th></th>\n",
       "      <th>ELAPSED</th>\n",
       "      <th>S1</th>\n",
       "      <th>S2</th>\n",
       "      <th>S3</th>\n",
       "      <th>S1_LARGE</th>\n",
       "      <th>S2_LARGE</th>\n",
       "      <th>S3_LARGE</th>\n",
       "      <th>PIT_TIME</th>\n",
       "      <th>HOUR</th>\n",
       "    </tr>\n",
       "  </thead>\n",
       "  <tbody>\n",
       "    <tr>\n",
       "      <th>0</th>\n",
       "      <td>422.000000</td>\n",
       "      <td>343.000003</td>\n",
       "      <td>35.000427</td>\n",
       "      <td>43.000313</td>\n",
       "      <td>343.000003</td>\n",
       "      <td>35.000004</td>\n",
       "      <td>43.000003</td>\n",
       "      <td>314.000007</td>\n",
       "      <td>1322.000000</td>\n",
       "    </tr>\n",
       "    <tr>\n",
       "      <th>1</th>\n",
       "      <td>523.000000</td>\n",
       "      <td>25.000674</td>\n",
       "      <td>33.000399</td>\n",
       "      <td>41.000922</td>\n",
       "      <td>25.000007</td>\n",
       "      <td>33.000004</td>\n",
       "      <td>41.000009</td>\n",
       "      <td>NaN</td>\n",
       "      <td>1423.000000</td>\n",
       "    </tr>\n",
       "    <tr>\n",
       "      <th>2</th>\n",
       "      <td>642.000005</td>\n",
       "      <td>28.000129</td>\n",
       "      <td>34.000091</td>\n",
       "      <td>57.000248</td>\n",
       "      <td>28.000001</td>\n",
       "      <td>34.000001</td>\n",
       "      <td>57.000002</td>\n",
       "      <td>NaN</td>\n",
       "      <td>1542.000005</td>\n",
       "    </tr>\n",
       "    <tr>\n",
       "      <th>3</th>\n",
       "      <td>160.000002</td>\n",
       "      <td>65.000000</td>\n",
       "      <td>38.000416</td>\n",
       "      <td>56.000833</td>\n",
       "      <td>65.000000</td>\n",
       "      <td>38.000004</td>\n",
       "      <td>56.000008</td>\n",
       "      <td>33.000000</td>\n",
       "      <td>1060.000002</td>\n",
       "    </tr>\n",
       "    <tr>\n",
       "      <th>4</th>\n",
       "      <td>269.000007</td>\n",
       "      <td>28.000013</td>\n",
       "      <td>36.000743</td>\n",
       "      <td>44.000716</td>\n",
       "      <td>28.000000</td>\n",
       "      <td>36.000007</td>\n",
       "      <td>44.000007</td>\n",
       "      <td>NaN</td>\n",
       "      <td>1169.000007</td>\n",
       "    </tr>\n",
       "  </tbody>\n",
       "</table>\n",
       "</div>"
      ],
      "text/plain": [
       "      ELAPSED          S1         S2         S3    S1_LARGE   S2_LARGE  \\\n",
       "0  422.000000  343.000003  35.000427  43.000313  343.000003  35.000004   \n",
       "1  523.000000   25.000674  33.000399  41.000922   25.000007  33.000004   \n",
       "2  642.000005   28.000129  34.000091  57.000248   28.000001  34.000001   \n",
       "3  160.000002   65.000000  38.000416  56.000833   65.000000  38.000004   \n",
       "4  269.000007   28.000013  36.000743  44.000716   28.000000  36.000007   \n",
       "\n",
       "    S3_LARGE    PIT_TIME         HOUR  \n",
       "0  43.000003  314.000007  1322.000000  \n",
       "1  41.000009         NaN  1423.000000  \n",
       "2  57.000002         NaN  1542.000005  \n",
       "3  56.000008   33.000000  1060.000002  \n",
       "4  44.000007         NaN  1169.000007  "
      ]
     },
     "execution_count": 96,
     "metadata": {},
     "output_type": "execute_result"
    }
   ],
   "source": [
    "train[['ELAPSED', 'S1', 'S2', 'S3', 'S1_LARGE', 'S2_LARGE', 'S3_LARGE', 'PIT_TIME', 'HOUR']].head()"
   ]
  },
  {
   "cell_type": "code",
   "execution_count": 97,
   "id": "a26ed4a7",
   "metadata": {},
   "outputs": [
    {
     "data": {
      "text/html": [
       "<div>\n",
       "<style scoped>\n",
       "    .dataframe tbody tr th:only-of-type {\n",
       "        vertical-align: middle;\n",
       "    }\n",
       "\n",
       "    .dataframe tbody tr th {\n",
       "        vertical-align: top;\n",
       "    }\n",
       "\n",
       "    .dataframe thead th {\n",
       "        text-align: right;\n",
       "    }\n",
       "</style>\n",
       "<table border=\"1\" class=\"dataframe\">\n",
       "  <thead>\n",
       "    <tr style=\"text-align: right;\">\n",
       "      <th></th>\n",
       "      <th>ELAPSED</th>\n",
       "      <th>S1</th>\n",
       "      <th>S2</th>\n",
       "      <th>S3</th>\n",
       "      <th>S1_LARGE</th>\n",
       "      <th>S2_LARGE</th>\n",
       "      <th>S3_LARGE</th>\n",
       "      <th>PIT_TIME</th>\n",
       "      <th>HOUR</th>\n",
       "    </tr>\n",
       "  </thead>\n",
       "  <tbody>\n",
       "    <tr>\n",
       "      <th>0</th>\n",
       "      <td>136.000004</td>\n",
       "      <td>70.000002</td>\n",
       "      <td>35.000433</td>\n",
       "      <td>30.000693</td>\n",
       "      <td>70.000002</td>\n",
       "      <td>35.000004</td>\n",
       "      <td>30.000007</td>\n",
       "      <td>47.000000</td>\n",
       "      <td>136.000004</td>\n",
       "    </tr>\n",
       "    <tr>\n",
       "      <th>1</th>\n",
       "      <td>235.000005</td>\n",
       "      <td>27.000667</td>\n",
       "      <td>33.000068</td>\n",
       "      <td>37.000767</td>\n",
       "      <td>27.000007</td>\n",
       "      <td>33.000007</td>\n",
       "      <td>37.000008</td>\n",
       "      <td>NaN</td>\n",
       "      <td>235.000005</td>\n",
       "    </tr>\n",
       "    <tr>\n",
       "      <th>2</th>\n",
       "      <td>316.000006</td>\n",
       "      <td>24.000688</td>\n",
       "      <td>29.000309</td>\n",
       "      <td>27.000111</td>\n",
       "      <td>24.000007</td>\n",
       "      <td>29.000003</td>\n",
       "      <td>27.000001</td>\n",
       "      <td>NaN</td>\n",
       "      <td>316.000006</td>\n",
       "    </tr>\n",
       "    <tr>\n",
       "      <th>3</th>\n",
       "      <td>135.000002</td>\n",
       "      <td>69.000001</td>\n",
       "      <td>35.000705</td>\n",
       "      <td>30.000451</td>\n",
       "      <td>69.000001</td>\n",
       "      <td>35.000007</td>\n",
       "      <td>30.000005</td>\n",
       "      <td>44.000007</td>\n",
       "      <td>135.000002</td>\n",
       "    </tr>\n",
       "    <tr>\n",
       "      <th>4</th>\n",
       "      <td>233.000003</td>\n",
       "      <td>28.000401</td>\n",
       "      <td>33.000693</td>\n",
       "      <td>35.000958</td>\n",
       "      <td>28.000004</td>\n",
       "      <td>33.000007</td>\n",
       "      <td>36.000000</td>\n",
       "      <td>NaN</td>\n",
       "      <td>233.000003</td>\n",
       "    </tr>\n",
       "  </tbody>\n",
       "</table>\n",
       "</div>"
      ],
      "text/plain": [
       "      ELAPSED         S1         S2         S3   S1_LARGE   S2_LARGE  \\\n",
       "0  136.000004  70.000002  35.000433  30.000693  70.000002  35.000004   \n",
       "1  235.000005  27.000667  33.000068  37.000767  27.000007  33.000007   \n",
       "2  316.000006  24.000688  29.000309  27.000111  24.000007  29.000003   \n",
       "3  135.000002  69.000001  35.000705  30.000451  69.000001  35.000007   \n",
       "4  233.000003  28.000401  33.000693  35.000958  28.000004  33.000007   \n",
       "\n",
       "    S3_LARGE   PIT_TIME        HOUR  \n",
       "0  30.000007  47.000000  136.000004  \n",
       "1  37.000008        NaN  235.000005  \n",
       "2  27.000001        NaN  316.000006  \n",
       "3  30.000005  44.000007  135.000002  \n",
       "4  36.000000        NaN  233.000003  "
      ]
     },
     "execution_count": 97,
     "metadata": {},
     "output_type": "execute_result"
    }
   ],
   "source": [
    "test[['ELAPSED', 'S1', 'S2', 'S3', 'S1_LARGE', 'S2_LARGE', 'S3_LARGE', 'PIT_TIME', 'HOUR']].head()"
   ]
  },
  {
   "cell_type": "code",
   "execution_count": 98,
   "id": "8b29f9f3",
   "metadata": {},
   "outputs": [
    {
     "name": "stdout",
     "output_type": "stream",
     "text": [
      "S1\n",
      "S2\n",
      "S3\n",
      "KPH\n",
      "S1_LARGE\n",
      "S2_LARGE\n",
      "S3_LARGE\n"
     ]
    }
   ],
   "source": [
    "#Let us look at the columns which have null values less than 5% so that we can fill them\n",
    "for column in train:\n",
    "    if train[column].isnull().mean()*100 > 0 and train[column].isnull().mean()*100 < 5:\n",
    "        print(column)"
   ]
  },
  {
   "cell_type": "code",
   "execution_count": 99,
   "id": "1792161c",
   "metadata": {},
   "outputs": [
    {
     "data": {
      "text/plain": [
       "array([[<AxesSubplot:title={'center':'S1'}>,\n",
       "        <AxesSubplot:title={'center':'S2'}>,\n",
       "        <AxesSubplot:title={'center':'S3'}>],\n",
       "       [<AxesSubplot:title={'center':'KPH'}>,\n",
       "        <AxesSubplot:title={'center':'S1_LARGE'}>,\n",
       "        <AxesSubplot:title={'center':'S2_LARGE'}>],\n",
       "       [<AxesSubplot:title={'center':'S3_LARGE'}>, <AxesSubplot:>,\n",
       "        <AxesSubplot:>]], dtype=object)"
      ]
     },
     "execution_count": 99,
     "metadata": {},
     "output_type": "execute_result"
    },
    {
     "data": {
      "image/png": "[encoded data removed]",
      "text/plain": [
       "<Figure size 1440x1080 with 9 Axes>"
      ]
     },
     "metadata": {
      "needs_background": "light"
     },
     "output_type": "display_data"
    }
   ],
   "source": [
    "#Let us look at the distribution of each variable in order to decide what to impute the missing values with \n",
    "train[['S1','S2','S3','KPH','S1_LARGE','S2_LARGE','S3_LARGE']].hist(bins=40, figsize=(20, 15))"
   ]
  },
  {
   "cell_type": "code",
   "execution_count": 100,
   "id": "979a81c3",
   "metadata": {},
   "outputs": [],
   "source": [
    "train['S1'].fillna(train['S1'].median(), inplace=True)\n",
    "train['S2'].fillna(train['S2'].median(), inplace=True)\n",
    "train['S3'].fillna(train['S3'].median(), inplace=True)\n",
    "train['KPH'].fillna(train['KPH'].median(), inplace=True)\n",
    "train['S1_LARGE'].fillna(train['S1_LARGE'].median(), inplace=True)\n",
    "train['S2_LARGE'].fillna(train['S2_LARGE'].median(), inplace=True)\n",
    "train['S3_LARGE'].fillna(train['S3_LARGE'].median(), inplace=True)"
   ]
  },
  {
   "cell_type": "code",
   "execution_count": 101,
   "id": "e17faa02",
   "metadata": {},
   "outputs": [
    {
     "data": {
      "text/plain": [
       "S1          0.0\n",
       "S2          0.0\n",
       "S3          0.0\n",
       "KPH         0.0\n",
       "S1_LARGE    0.0\n",
       "S2_LARGE    0.0\n",
       "S3_LARGE    0.0\n",
       "dtype: float64"
      ]
     },
     "execution_count": 101,
     "metadata": {},
     "output_type": "execute_result"
    }
   ],
   "source": [
    "#Let us look if null values have been imputed\n",
    "train[['S1','S2','S3','KPH','S1_LARGE','S2_LARGE','S3_LARGE']].isnull().mean()*100"
   ]
  },
  {
   "cell_type": "code",
   "execution_count": 102,
   "id": "efeb8db3",
   "metadata": {},
   "outputs": [
    {
     "name": "stdout",
     "output_type": "stream",
     "text": [
      "CROSSING_FINISH_LINE_IN_PIT : 87.99143635655898\n",
      "PIT_TIME : 81.52977812378357\n",
      "GROUP : 95.05644219540677\n",
      "POWER : 71.74970805760996\n"
     ]
    }
   ],
   "source": [
    "#Let us look at the columns which have null values more than 5% so that we decide how to proceed further\n",
    "for column in train:\n",
    "    if train[column].isnull().mean()*100 > 5:\n",
    "        print(column,':',train[column].isnull().mean()*100)"
   ]
  },
  {
   "cell_type": "code",
   "execution_count": 103,
   "id": "0b1ce811",
   "metadata": {},
   "outputs": [
    {
     "data": {
      "text/plain": [
       "array([nan, 'B'], dtype=object)"
      ]
     },
     "execution_count": 103,
     "metadata": {},
     "output_type": "execute_result"
    }
   ],
   "source": [
    "#Let us have a look at the variable CROSSING_FINISH_LINE_IN_PIT and see if we can fill the NA values for the train set\n",
    "train['CROSSING_FINISH_LINE_IN_PIT'].unique()"
   ]
  },
  {
   "cell_type": "code",
   "execution_count": 104,
   "id": "53fa6638",
   "metadata": {},
   "outputs": [
    {
     "data": {
      "text/plain": [
       "array(['Missing', 'B'], dtype=object)"
      ]
     },
     "execution_count": 104,
     "metadata": {},
     "output_type": "execute_result"
    }
   ],
   "source": [
    "#Let us fill the missing values with a 'Missing' indicator\n",
    "train['CROSSING_FINISH_LINE_IN_PIT'].fillna('Missing', inplace = True)\n",
    "train['CROSSING_FINISH_LINE_IN_PIT'].unique()\n",
    "#Looks like we are good with this one!"
   ]
  },
  {
   "cell_type": "code",
   "execution_count": 105,
   "id": "5fee3a26",
   "metadata": {},
   "outputs": [
    {
     "data": {
      "text/plain": [
       "array([nan, 'B'], dtype=object)"
      ]
     },
     "execution_count": 105,
     "metadata": {},
     "output_type": "execute_result"
    }
   ],
   "source": [
    "#Let us have a look at the variable CROSSING_FINISH_LINE_IN_PIT and see if we can fill the NA values for the test set now\n",
    "test['CROSSING_FINISH_LINE_IN_PIT'].unique()"
   ]
  },
  {
   "cell_type": "code",
   "execution_count": 106,
   "id": "a7a88aec",
   "metadata": {},
   "outputs": [
    {
     "data": {
      "text/plain": [
       "array(['Missing', 'B'], dtype=object)"
      ]
     },
     "execution_count": 106,
     "metadata": {},
     "output_type": "execute_result"
    }
   ],
   "source": [
    "test['CROSSING_FINISH_LINE_IN_PIT'].fillna('Missing', inplace = True)\n",
    "test['CROSSING_FINISH_LINE_IN_PIT'].unique()\n",
    "#Looks like we are good with this one!"
   ]
  },
  {
   "cell_type": "code",
   "execution_count": 107,
   "id": "43692f2f",
   "metadata": {},
   "outputs": [
    {
     "data": {
      "text/plain": [
       "array([nan,  1.,  2.,  4.,  3.])"
      ]
     },
     "execution_count": 107,
     "metadata": {},
     "output_type": "execute_result"
    }
   ],
   "source": [
    "#Let us have a look at the variable GROUP and see if we can fill the NA values for train set\n",
    "train['GROUP'].unique()\n",
    "#Let us try indicating missing values with the number '5'"
   ]
  },
  {
   "cell_type": "code",
   "execution_count": 108,
   "id": "61490fe5",
   "metadata": {},
   "outputs": [
    {
     "data": {
      "text/plain": [
       "array([5., 1., 2., 4., 3.])"
      ]
     },
     "execution_count": 108,
     "metadata": {},
     "output_type": "execute_result"
    }
   ],
   "source": [
    "#Let us fill the missing values with a 'Missing' indicator\n",
    "train['GROUP'].fillna(float(5), inplace = True)\n",
    "train['GROUP'].unique()\n",
    "#Looks like we are good with this one!"
   ]
  },
  {
   "cell_type": "code",
   "execution_count": 109,
   "id": "0106f9ef",
   "metadata": {},
   "outputs": [
    {
     "data": {
      "text/plain": [
       "array([ 1.,  2.,  4.,  3., nan])"
      ]
     },
     "execution_count": 109,
     "metadata": {},
     "output_type": "execute_result"
    }
   ],
   "source": [
    "#Let us have a look at the variable GROUP and see if we can fill the NA values for the test set\n",
    "test['GROUP'].unique()\n",
    "#Let us try indicating missing values with the number '5'"
   ]
  },
  {
   "cell_type": "code",
   "execution_count": 110,
   "id": "eca8a693",
   "metadata": {},
   "outputs": [
    {
     "data": {
      "text/plain": [
       "array([1., 2., 4., 3., 5.])"
      ]
     },
     "execution_count": 110,
     "metadata": {},
     "output_type": "execute_result"
    }
   ],
   "source": [
    "#Let us fill the missing values with a 'Missing' indicator\n",
    "test['GROUP'].fillna(float(5), inplace = True)\n",
    "test['GROUP'].unique()\n",
    "#Looks like we are good with this one!"
   ]
  },
  {
   "cell_type": "code",
   "execution_count": 111,
   "id": "ac72c6a8",
   "metadata": {},
   "outputs": [
    {
     "data": {
      "text/plain": [
       "array([ nan, 235., 250.])"
      ]
     },
     "execution_count": 111,
     "metadata": {},
     "output_type": "execute_result"
    }
   ],
   "source": [
    "#Let us have a look at the POWER column and then try filling the missing data for the train dataset\n",
    "train['POWER'].unique()\n",
    "#Let us indicate the missing values with a value of 0"
   ]
  },
  {
   "cell_type": "code",
   "execution_count": 112,
   "id": "d122e620",
   "metadata": {},
   "outputs": [
    {
     "data": {
      "text/plain": [
       "array([  0., 235., 250.])"
      ]
     },
     "execution_count": 112,
     "metadata": {},
     "output_type": "execute_result"
    }
   ],
   "source": [
    "#Let us fill the missing values with a 'Missing' indicator\n",
    "train['POWER'].fillna(float(0), inplace = True)\n",
    "train['POWER'].unique()\n",
    "#Looks like we are good with this one!"
   ]
  },
  {
   "cell_type": "code",
   "execution_count": 113,
   "id": "d41cfac0",
   "metadata": {},
   "outputs": [
    {
     "data": {
      "text/plain": [
       "array([ nan, 250.])"
      ]
     },
     "execution_count": 113,
     "metadata": {},
     "output_type": "execute_result"
    }
   ],
   "source": [
    "#Let us have a look at the POWER column and then try filling the missing data for the test dataset\n",
    "test['POWER'].unique()"
   ]
  },
  {
   "cell_type": "code",
   "execution_count": 114,
   "id": "6e0ce686",
   "metadata": {},
   "outputs": [
    {
     "data": {
      "text/plain": [
       "array([  0., 250.])"
      ]
     },
     "execution_count": 114,
     "metadata": {},
     "output_type": "execute_result"
    }
   ],
   "source": [
    "#Let us fill the missing values with a 'Missing' indicator\n",
    "test['POWER'].fillna(float(0), inplace = True)\n",
    "test['POWER'].unique()\n",
    "#Looks like we are good with this one!"
   ]
  },
  {
   "cell_type": "code",
   "execution_count": 115,
   "id": "3b0475d8",
   "metadata": {},
   "outputs": [
    {
     "data": {
      "text/plain": [
       "(2.000008, 2350.000002)"
      ]
     },
     "execution_count": 115,
     "metadata": {},
     "output_type": "execute_result"
    }
   ],
   "source": [
    "#Finally let us have a look a the tricky one, the PIT_TIME column for the train dataset\n",
    "#Let us have a look at the min-max values to determine the missing indicator\n",
    "train['PIT_TIME'].min(),train['PIT_TIME'].max()"
   ]
  },
  {
   "cell_type": "code",
   "execution_count": 116,
   "id": "fa87f1f7",
   "metadata": {},
   "outputs": [
    {
     "data": {
      "text/plain": [
       "(8.000002, 503.000005)"
      ]
     },
     "execution_count": 116,
     "metadata": {},
     "output_type": "execute_result"
    }
   ],
   "source": [
    "#Finally let us have a look a the tricky one, the PIT_TIME column for the test dataset\n",
    "#Let us have a look at the min-max values to determine the missing indicator\n",
    "test['PIT_TIME'].min(),test['PIT_TIME'].max()"
   ]
  },
  {
   "cell_type": "code",
   "execution_count": 117,
   "id": "f76906dd",
   "metadata": {},
   "outputs": [
    {
     "data": {
      "text/plain": [
       "(0.0, 2350.000002)"
      ]
     },
     "execution_count": 117,
     "metadata": {},
     "output_type": "execute_result"
    }
   ],
   "source": [
    "#Looks like we can fill the missing values with 0 indicator since 0 doesnt exist in both the test and the train dataset\n",
    "#Let us fill the missing values with a 'Missing' indicator\n",
    "train['PIT_TIME'].fillna(float(0), inplace = True)\n",
    "train['PIT_TIME'].min(),train['PIT_TIME'].max()\n",
    "#Looks like we are good with this one!"
   ]
  },
  {
   "cell_type": "code",
   "execution_count": 118,
   "id": "3c7f3986",
   "metadata": {},
   "outputs": [
    {
     "data": {
      "text/plain": [
       "(0.0, 503.000005)"
      ]
     },
     "execution_count": 118,
     "metadata": {},
     "output_type": "execute_result"
    }
   ],
   "source": [
    "#Looks like we can fill the missing values with 0 indicator since 0 doesnt exist in both the test and the train dataset\n",
    "#Let us fill the missing values with a 'Missing' indicator\n",
    "test['PIT_TIME'].fillna(float(0), inplace = True)\n",
    "test['PIT_TIME'].min(),test['PIT_TIME'].max()\n",
    "#Looks like we are good with this one!"
   ]
  },
  {
   "cell_type": "code",
   "execution_count": 119,
   "id": "bc47bc78",
   "metadata": {},
   "outputs": [
    {
     "name": "stdout",
     "output_type": "stream",
     "text": [
      "<class 'pandas.core.frame.DataFrame'>\n",
      "RangeIndex: 10276 entries, 0 to 10275\n",
      "Data columns (total 25 columns):\n",
      " #   Column                       Non-Null Count  Dtype  \n",
      "---  ------                       --------------  -----  \n",
      " 0   NUMBER                       10276 non-null  int64  \n",
      " 1   DRIVER_NUMBER                10276 non-null  int64  \n",
      " 2   LAP_NUMBER                   10276 non-null  int64  \n",
      " 3   LAP_TIME                     10276 non-null  int64  \n",
      " 4   LAP_IMPROVEMENT              10276 non-null  int64  \n",
      " 5   CROSSING_FINISH_LINE_IN_PIT  10276 non-null  object \n",
      " 6   S1                           10276 non-null  float64\n",
      " 7   S1_IMPROVEMENT               10276 non-null  int64  \n",
      " 8   S2                           10276 non-null  float64\n",
      " 9   S2_IMPROVEMENT               10276 non-null  int64  \n",
      " 10  S3                           10276 non-null  float64\n",
      " 11  S3_IMPROVEMENT               10276 non-null  int64  \n",
      " 12  KPH                          10276 non-null  float64\n",
      " 13  ELAPSED                      10276 non-null  float64\n",
      " 14  HOUR                         10276 non-null  float64\n",
      " 15  S1_LARGE                     10276 non-null  float64\n",
      " 16  S2_LARGE                     10276 non-null  float64\n",
      " 17  S3_LARGE                     10276 non-null  float64\n",
      " 18  DRIVER_NAME                  10276 non-null  object \n",
      " 19  PIT_TIME                     10276 non-null  float64\n",
      " 20  GROUP                        10276 non-null  float64\n",
      " 21  TEAM                         10276 non-null  object \n",
      " 22  POWER                        10276 non-null  float64\n",
      " 23  LOCATION                     10276 non-null  object \n",
      " 24  EVENT                        10276 non-null  object \n",
      "dtypes: float64(12), int64(8), object(5)\n",
      "memory usage: 2.0+ MB\n"
     ]
    }
   ],
   "source": [
    "#Finally let us look if we still have null values\n",
    "train.info()\n",
    "#Woohoo! Next-up, model selection and building."
   ]
  },
  {
   "cell_type": "code",
   "execution_count": 120,
   "id": "6dcba290",
   "metadata": {},
   "outputs": [
    {
     "name": "stdout",
     "output_type": "stream",
     "text": [
      "<class 'pandas.core.frame.DataFrame'>\n",
      "RangeIndex: 420 entries, 0 to 419\n",
      "Data columns (total 25 columns):\n",
      " #   Column                       Non-Null Count  Dtype  \n",
      "---  ------                       --------------  -----  \n",
      " 0   NUMBER                       420 non-null    int64  \n",
      " 1   DRIVER_NUMBER                420 non-null    int64  \n",
      " 2   LAP_NUMBER                   420 non-null    int64  \n",
      " 3   LAP_TIME                     0 non-null      float64\n",
      " 4   LAP_IMPROVEMENT              420 non-null    int64  \n",
      " 5   CROSSING_FINISH_LINE_IN_PIT  420 non-null    object \n",
      " 6   S1                           420 non-null    float64\n",
      " 7   S1_IMPROVEMENT               420 non-null    int64  \n",
      " 8   S2                           420 non-null    float64\n",
      " 9   S2_IMPROVEMENT               420 non-null    int64  \n",
      " 10  S3                           418 non-null    float64\n",
      " 11  S3_IMPROVEMENT               420 non-null    int64  \n",
      " 12  KPH                          418 non-null    float64\n",
      " 13  ELAPSED                      420 non-null    float64\n",
      " 14  HOUR                         420 non-null    float64\n",
      " 15  S1_LARGE                     420 non-null    float64\n",
      " 16  S2_LARGE                     420 non-null    float64\n",
      " 17  S3_LARGE                     418 non-null    float64\n",
      " 18  DRIVER_NAME                  420 non-null    object \n",
      " 19  PIT_TIME                     420 non-null    float64\n",
      " 20  GROUP                        420 non-null    float64\n",
      " 21  TEAM                         420 non-null    object \n",
      " 22  POWER                        420 non-null    float64\n",
      " 23  LOCATION                     420 non-null    object \n",
      " 24  EVENT                        420 non-null    object \n",
      "dtypes: float64(13), int64(7), object(5)\n",
      "memory usage: 82.2+ KB\n"
     ]
    }
   ],
   "source": [
    "test.info()"
   ]
  },
  {
   "cell_type": "markdown",
   "id": "8b7fdabd",
   "metadata": {},
   "source": [
    "## Feature Scaling and Encoding"
   ]
  },
  {
   "cell_type": "code",
   "execution_count": 121,
   "id": "84b0ca8a",
   "metadata": {},
   "outputs": [
    {
     "data": {
      "text/html": [
       "<div>\n",
       "<style scoped>\n",
       "    .dataframe tbody tr th:only-of-type {\n",
       "        vertical-align: middle;\n",
       "    }\n",
       "\n",
       "    .dataframe tbody tr th {\n",
       "        vertical-align: top;\n",
       "    }\n",
       "\n",
       "    .dataframe thead th {\n",
       "        text-align: right;\n",
       "    }\n",
       "</style>\n",
       "<table border=\"1\" class=\"dataframe\">\n",
       "  <thead>\n",
       "    <tr style=\"text-align: right;\">\n",
       "      <th></th>\n",
       "      <th>NUMBER</th>\n",
       "      <th>DRIVER_NUMBER</th>\n",
       "      <th>LAP_NUMBER</th>\n",
       "      <th>LAP_TIME</th>\n",
       "      <th>LAP_IMPROVEMENT</th>\n",
       "      <th>CROSSING_FINISH_LINE_IN_PIT</th>\n",
       "      <th>S1</th>\n",
       "      <th>S1_IMPROVEMENT</th>\n",
       "      <th>S2</th>\n",
       "      <th>S2_IMPROVEMENT</th>\n",
       "      <th>...</th>\n",
       "      <th>S1_LARGE</th>\n",
       "      <th>S2_LARGE</th>\n",
       "      <th>S3_LARGE</th>\n",
       "      <th>DRIVER_NAME</th>\n",
       "      <th>PIT_TIME</th>\n",
       "      <th>GROUP</th>\n",
       "      <th>TEAM</th>\n",
       "      <th>POWER</th>\n",
       "      <th>LOCATION</th>\n",
       "      <th>EVENT</th>\n",
       "    </tr>\n",
       "  </thead>\n",
       "  <tbody>\n",
       "    <tr>\n",
       "      <th>0</th>\n",
       "      <td>10</td>\n",
       "      <td>1</td>\n",
       "      <td>1</td>\n",
       "      <td>92</td>\n",
       "      <td>0</td>\n",
       "      <td>Missing</td>\n",
       "      <td>343.000003</td>\n",
       "      <td>0</td>\n",
       "      <td>35.000427</td>\n",
       "      <td>0</td>\n",
       "      <td>...</td>\n",
       "      <td>343.000003</td>\n",
       "      <td>35.000004</td>\n",
       "      <td>43.000003</td>\n",
       "      <td>SB</td>\n",
       "      <td>314.000007</td>\n",
       "      <td>5.0</td>\n",
       "      <td>JR</td>\n",
       "      <td>0.0</td>\n",
       "      <td>Location 2</td>\n",
       "      <td>Free Practice 2</td>\n",
       "    </tr>\n",
       "  </tbody>\n",
       "</table>\n",
       "<p>1 rows × 25 columns</p>\n",
       "</div>"
      ],
      "text/plain": [
       "   NUMBER  DRIVER_NUMBER  LAP_NUMBER  LAP_TIME  LAP_IMPROVEMENT  \\\n",
       "0      10              1           1        92                0   \n",
       "\n",
       "  CROSSING_FINISH_LINE_IN_PIT          S1  S1_IMPROVEMENT         S2  \\\n",
       "0                     Missing  343.000003               0  35.000427   \n",
       "\n",
       "   S2_IMPROVEMENT  ...    S1_LARGE   S2_LARGE   S3_LARGE  DRIVER_NAME  \\\n",
       "0               0  ...  343.000003  35.000004  43.000003           SB   \n",
       "\n",
       "     PIT_TIME  GROUP  TEAM  POWER    LOCATION            EVENT  \n",
       "0  314.000007    5.0    JR    0.0  Location 2  Free Practice 2  \n",
       "\n",
       "[1 rows x 25 columns]"
      ]
     },
     "execution_count": 121,
     "metadata": {},
     "output_type": "execute_result"
    }
   ],
   "source": [
    "train.head(1)"
   ]
  },
  {
   "cell_type": "code",
   "execution_count": 122,
   "id": "87ca55d6",
   "metadata": {},
   "outputs": [
    {
     "name": "stdout",
     "output_type": "stream",
     "text": [
      "Column:  NUMBER Min: 4 Max: 99\n",
      "Column:  DRIVER_NUMBER Min: 1 Max: 1\n",
      "Column:  LAP_NUMBER Min: 1 Max: 31\n",
      "Column:  LAP_TIME Min: 0 Max: 199\n",
      "Column:  LAP_IMPROVEMENT Min: 0 Max: 4\n",
      "Column:  S1 Min: 21.000063 Max: 2460.0\n",
      "Column:  S1_IMPROVEMENT Min: 0 Max: 4\n",
      "Column:  S2 Min: 17.000007 Max: 2280.0\n",
      "Column:  S2_IMPROVEMENT Min: 0 Max: 4\n",
      "Column:  S3 Min: 18.000087 Max: 3180.0\n",
      "Column:  S3_IMPROVEMENT Min: 0 Max: 4\n",
      "Column:  KPH Min: 4.4 Max: 140.0\n",
      "Column:  ELAPSED Min: 8.000005 Max: 3595.000009\n",
      "Column:  HOUR Min: 0.0 Max: 3599.000002\n",
      "Column:  S1_LARGE Min: 21.000004 Max: 2377.000009\n",
      "Column:  S2_LARGE Min: 17.000005 Max: 128.000008\n",
      "Column:  S3_LARGE Min: 18.000008 Max: 1741.000001\n",
      "Column:  PIT_TIME Min: 0.0 Max: 2350.000002\n",
      "Column:  GROUP Min: 1.0 Max: 5.0\n",
      "Column:  POWER Min: 0.0 Max: 250.0\n"
     ]
    }
   ],
   "source": [
    "for column in train:\n",
    "    if train[column].dtype == type(object):\n",
    "        continue\n",
    "    else:\n",
    "        print('Column: ',column, 'Min:', train[column].min(), 'Max:', train[column].max())"
   ]
  },
  {
   "cell_type": "code",
   "execution_count": 123,
   "id": "7582a3e5",
   "metadata": {},
   "outputs": [
    {
     "name": "stdout",
     "output_type": "stream",
     "text": [
      "Column:  NUMBER Min: 4 Max: 99\n",
      "Column:  DRIVER_NUMBER Min: 1 Max: 1\n",
      "Column:  LAP_NUMBER Min: 1 Max: 5\n",
      "Column:  LAP_TIME Min: nan Max: nan\n",
      "Column:  LAP_IMPROVEMENT Min: 0 Max: 4\n",
      "Column:  S1 Min: 22.000043 Max: 521.000007\n",
      "Column:  S1_IMPROVEMENT Min: 0 Max: 4\n",
      "Column:  S2 Min: 20.000073 Max: 2100.0\n",
      "Column:  S2_IMPROVEMENT Min: 0 Max: 4\n",
      "Column:  S3 Min: 18.000009 Max: 1620.0\n",
      "Column:  S3_IMPROVEMENT Min: 0 Max: 4\n",
      "Column:  KPH Min: 13.9 Max: 128.0\n",
      "Column:  ELAPSED Min: 91.000005 Max: 983.000001\n",
      "Column:  HOUR Min: 0.0 Max: 3586.000003\n",
      "Column:  S1_LARGE Min: 22.000004 Max: 521.000007\n",
      "Column:  S2_LARGE Min: 20.000006 Max: 67.000008\n",
      "Column:  S3_LARGE Min: 18.000007 Max: 385.000003\n",
      "Column:  PIT_TIME Min: 0.0 Max: 503.000005\n",
      "Column:  GROUP Min: 1.0 Max: 5.0\n",
      "Column:  POWER Min: 0.0 Max: 250.0\n"
     ]
    }
   ],
   "source": [
    "for column in test:\n",
    "    if test[column].dtype == type(object):\n",
    "        continue\n",
    "    else:\n",
    "        print('Column: ',column, 'Min:', test[column].min(), 'Max:', test[column].max())"
   ]
  },
  {
   "cell_type": "code",
   "execution_count": 124,
   "id": "4ca25a5c",
   "metadata": {},
   "outputs": [],
   "source": [
    "data = pd.concat([train, test], axis=0)"
   ]
  },
  {
   "cell_type": "code",
   "execution_count": 125,
   "id": "241c5dd8",
   "metadata": {},
   "outputs": [],
   "source": [
    "scaling_cols = ['NUMBER', 'DRIVER_NUMBER', 'LAP_NUMBER', 'LAP_TIME', 'LAP_IMPROVEMENT', 'S1', 'S1_IMPROVEMENT', 'S2','S2_IMPROVEMENT', 'S3', 'S3_IMPROVEMENT', 'KPH', 'ELAPSED', 'HOUR','S1_LARGE', 'S2_LARGE', 'S3_LARGE', 'PIT_TIME', 'GROUP','POWER']"
   ]
  },
  {
   "cell_type": "code",
   "execution_count": 126,
   "id": "c9cdec39",
   "metadata": {},
   "outputs": [],
   "source": [
    "for column in scaling_cols:\n",
    "    data[column] = data[column].astype(float)\n",
    "    #train[column] = train[column].astype(float)\n",
    "    #test[column] = test[column].astype(float)"
   ]
  },
  {
   "cell_type": "code",
   "execution_count": 127,
   "id": "d632c21d",
   "metadata": {},
   "outputs": [
    {
     "name": "stdout",
     "output_type": "stream",
     "text": [
      "<class 'pandas.core.frame.DataFrame'>\n",
      "Int64Index: 10696 entries, 0 to 419\n",
      "Data columns (total 25 columns):\n",
      " #   Column                       Non-Null Count  Dtype  \n",
      "---  ------                       --------------  -----  \n",
      " 0   NUMBER                       10696 non-null  float64\n",
      " 1   DRIVER_NUMBER                10696 non-null  float64\n",
      " 2   LAP_NUMBER                   10696 non-null  float64\n",
      " 3   LAP_TIME                     10276 non-null  float64\n",
      " 4   LAP_IMPROVEMENT              10696 non-null  float64\n",
      " 5   CROSSING_FINISH_LINE_IN_PIT  10696 non-null  object \n",
      " 6   S1                           10696 non-null  float64\n",
      " 7   S1_IMPROVEMENT               10696 non-null  float64\n",
      " 8   S2                           10696 non-null  float64\n",
      " 9   S2_IMPROVEMENT               10696 non-null  float64\n",
      " 10  S3                           10694 non-null  float64\n",
      " 11  S3_IMPROVEMENT               10696 non-null  float64\n",
      " 12  KPH                          10694 non-null  float64\n",
      " 13  ELAPSED                      10696 non-null  float64\n",
      " 14  HOUR                         10696 non-null  float64\n",
      " 15  S1_LARGE                     10696 non-null  float64\n",
      " 16  S2_LARGE                     10696 non-null  float64\n",
      " 17  S3_LARGE                     10694 non-null  float64\n",
      " 18  DRIVER_NAME                  10696 non-null  object \n",
      " 19  PIT_TIME                     10696 non-null  float64\n",
      " 20  GROUP                        10696 non-null  float64\n",
      " 21  TEAM                         10696 non-null  object \n",
      " 22  POWER                        10696 non-null  float64\n",
      " 23  LOCATION                     10696 non-null  object \n",
      " 24  EVENT                        10696 non-null  object \n",
      "dtypes: float64(20), object(5)\n",
      "memory usage: 2.1+ MB\n"
     ]
    }
   ],
   "source": [
    "data.info()"
   ]
  },
  {
   "cell_type": "code",
   "execution_count": 128,
   "id": "f424a9b4",
   "metadata": {},
   "outputs": [
    {
     "name": "stdout",
     "output_type": "stream",
     "text": [
      "<class 'pandas.core.frame.DataFrame'>\n",
      "RangeIndex: 10276 entries, 0 to 10275\n",
      "Data columns (total 25 columns):\n",
      " #   Column                       Non-Null Count  Dtype  \n",
      "---  ------                       --------------  -----  \n",
      " 0   NUMBER                       10276 non-null  int64  \n",
      " 1   DRIVER_NUMBER                10276 non-null  int64  \n",
      " 2   LAP_NUMBER                   10276 non-null  int64  \n",
      " 3   LAP_TIME                     10276 non-null  int64  \n",
      " 4   LAP_IMPROVEMENT              10276 non-null  int64  \n",
      " 5   CROSSING_FINISH_LINE_IN_PIT  10276 non-null  object \n",
      " 6   S1                           10276 non-null  float64\n",
      " 7   S1_IMPROVEMENT               10276 non-null  int64  \n",
      " 8   S2                           10276 non-null  float64\n",
      " 9   S2_IMPROVEMENT               10276 non-null  int64  \n",
      " 10  S3                           10276 non-null  float64\n",
      " 11  S3_IMPROVEMENT               10276 non-null  int64  \n",
      " 12  KPH                          10276 non-null  float64\n",
      " 13  ELAPSED                      10276 non-null  float64\n",
      " 14  HOUR                         10276 non-null  float64\n",
      " 15  S1_LARGE                     10276 non-null  float64\n",
      " 16  S2_LARGE                     10276 non-null  float64\n",
      " 17  S3_LARGE                     10276 non-null  float64\n",
      " 18  DRIVER_NAME                  10276 non-null  object \n",
      " 19  PIT_TIME                     10276 non-null  float64\n",
      " 20  GROUP                        10276 non-null  float64\n",
      " 21  TEAM                         10276 non-null  object \n",
      " 22  POWER                        10276 non-null  float64\n",
      " 23  LOCATION                     10276 non-null  object \n",
      " 24  EVENT                        10276 non-null  object \n",
      "dtypes: float64(12), int64(8), object(5)\n",
      "memory usage: 2.0+ MB\n"
     ]
    }
   ],
   "source": [
    "train.info()"
   ]
  },
  {
   "cell_type": "code",
   "execution_count": 129,
   "id": "61d319c3",
   "metadata": {},
   "outputs": [
    {
     "name": "stdout",
     "output_type": "stream",
     "text": [
      "<class 'pandas.core.frame.DataFrame'>\n",
      "RangeIndex: 420 entries, 0 to 419\n",
      "Data columns (total 25 columns):\n",
      " #   Column                       Non-Null Count  Dtype  \n",
      "---  ------                       --------------  -----  \n",
      " 0   NUMBER                       420 non-null    int64  \n",
      " 1   DRIVER_NUMBER                420 non-null    int64  \n",
      " 2   LAP_NUMBER                   420 non-null    int64  \n",
      " 3   LAP_TIME                     0 non-null      float64\n",
      " 4   LAP_IMPROVEMENT              420 non-null    int64  \n",
      " 5   CROSSING_FINISH_LINE_IN_PIT  420 non-null    object \n",
      " 6   S1                           420 non-null    float64\n",
      " 7   S1_IMPROVEMENT               420 non-null    int64  \n",
      " 8   S2                           420 non-null    float64\n",
      " 9   S2_IMPROVEMENT               420 non-null    int64  \n",
      " 10  S3                           418 non-null    float64\n",
      " 11  S3_IMPROVEMENT               420 non-null    int64  \n",
      " 12  KPH                          418 non-null    float64\n",
      " 13  ELAPSED                      420 non-null    float64\n",
      " 14  HOUR                         420 non-null    float64\n",
      " 15  S1_LARGE                     420 non-null    float64\n",
      " 16  S2_LARGE                     420 non-null    float64\n",
      " 17  S3_LARGE                     418 non-null    float64\n",
      " 18  DRIVER_NAME                  420 non-null    object \n",
      " 19  PIT_TIME                     420 non-null    float64\n",
      " 20  GROUP                        420 non-null    float64\n",
      " 21  TEAM                         420 non-null    object \n",
      " 22  POWER                        420 non-null    float64\n",
      " 23  LOCATION                     420 non-null    object \n",
      " 24  EVENT                        420 non-null    object \n",
      "dtypes: float64(13), int64(7), object(5)\n",
      "memory usage: 82.2+ KB\n"
     ]
    }
   ],
   "source": [
    "test.info()"
   ]
  },
  {
   "cell_type": "code",
   "execution_count": 130,
   "id": "d77aaa6f",
   "metadata": {},
   "outputs": [],
   "source": [
    "#Lets Scale the numerical columns and encode the categorical columns\n",
    "from sklearn.preprocessing import OneHotEncoder\n",
    "from sklearn.preprocessing import StandardScaler\n",
    "\n",
    "scaler = StandardScaler()\n",
    "scaling_cols.remove('LAP_TIME')\n",
    "\n",
    "for column in scaling_cols:\n",
    "    data[[column]] = scaler.fit_transform(data[[column]])\n",
    "    #train[[column]] = scaler.fit_transform(train[[column]])\n",
    "    #test[[column]] = scaler.fit_transform(test[[column]])"
   ]
  },
  {
   "cell_type": "code",
   "execution_count": 131,
   "id": "fa2650f0",
   "metadata": {},
   "outputs": [
    {
     "data": {
      "text/plain": [
       "((10276, 25), (420, 25))"
      ]
     },
     "execution_count": 131,
     "metadata": {},
     "output_type": "execute_result"
    }
   ],
   "source": [
    "train.shape,test.shape"
   ]
  },
  {
   "cell_type": "code",
   "execution_count": 132,
   "id": "2889550c",
   "metadata": {},
   "outputs": [
    {
     "name": "stdout",
     "output_type": "stream",
     "text": [
      "<class 'pandas.core.frame.DataFrame'>\n",
      "Int64Index: 10696 entries, 0 to 419\n",
      "Data columns (total 25 columns):\n",
      " #   Column                       Non-Null Count  Dtype  \n",
      "---  ------                       --------------  -----  \n",
      " 0   NUMBER                       10696 non-null  float64\n",
      " 1   DRIVER_NUMBER                10696 non-null  float64\n",
      " 2   LAP_NUMBER                   10696 non-null  float64\n",
      " 3   LAP_TIME                     10276 non-null  float64\n",
      " 4   LAP_IMPROVEMENT              10696 non-null  float64\n",
      " 5   CROSSING_FINISH_LINE_IN_PIT  10696 non-null  object \n",
      " 6   S1                           10696 non-null  float64\n",
      " 7   S1_IMPROVEMENT               10696 non-null  float64\n",
      " 8   S2                           10696 non-null  float64\n",
      " 9   S2_IMPROVEMENT               10696 non-null  float64\n",
      " 10  S3                           10694 non-null  float64\n",
      " 11  S3_IMPROVEMENT               10696 non-null  float64\n",
      " 12  KPH                          10694 non-null  float64\n",
      " 13  ELAPSED                      10696 non-null  float64\n",
      " 14  HOUR                         10696 non-null  float64\n",
      " 15  S1_LARGE                     10696 non-null  float64\n",
      " 16  S2_LARGE                     10696 non-null  float64\n",
      " 17  S3_LARGE                     10694 non-null  float64\n",
      " 18  DRIVER_NAME                  10696 non-null  object \n",
      " 19  PIT_TIME                     10696 non-null  float64\n",
      " 20  GROUP                        10696 non-null  float64\n",
      " 21  TEAM                         10696 non-null  object \n",
      " 22  POWER                        10696 non-null  float64\n",
      " 23  LOCATION                     10696 non-null  object \n",
      " 24  EVENT                        10696 non-null  object \n",
      "dtypes: float64(20), object(5)\n",
      "memory usage: 2.1+ MB\n"
     ]
    }
   ],
   "source": [
    "data.info()"
   ]
  },
  {
   "cell_type": "code",
   "execution_count": 133,
   "id": "282dad13",
   "metadata": {},
   "outputs": [
    {
     "data": {
      "text/html": [
       "<div>\n",
       "<style scoped>\n",
       "    .dataframe tbody tr th:only-of-type {\n",
       "        vertical-align: middle;\n",
       "    }\n",
       "\n",
       "    .dataframe tbody tr th {\n",
       "        vertical-align: top;\n",
       "    }\n",
       "\n",
       "    .dataframe thead th {\n",
       "        text-align: right;\n",
       "    }\n",
       "</style>\n",
       "<table border=\"1\" class=\"dataframe\">\n",
       "  <thead>\n",
       "    <tr style=\"text-align: right;\">\n",
       "      <th></th>\n",
       "      <th>NUMBER</th>\n",
       "      <th>DRIVER_NUMBER</th>\n",
       "      <th>LAP_NUMBER</th>\n",
       "      <th>LAP_TIME</th>\n",
       "      <th>LAP_IMPROVEMENT</th>\n",
       "      <th>CROSSING_FINISH_LINE_IN_PIT</th>\n",
       "      <th>S1</th>\n",
       "      <th>S1_IMPROVEMENT</th>\n",
       "      <th>S2</th>\n",
       "      <th>S2_IMPROVEMENT</th>\n",
       "      <th>...</th>\n",
       "      <th>S1_LARGE</th>\n",
       "      <th>S2_LARGE</th>\n",
       "      <th>S3_LARGE</th>\n",
       "      <th>DRIVER_NAME</th>\n",
       "      <th>PIT_TIME</th>\n",
       "      <th>GROUP</th>\n",
       "      <th>TEAM</th>\n",
       "      <th>POWER</th>\n",
       "      <th>LOCATION</th>\n",
       "      <th>EVENT</th>\n",
       "    </tr>\n",
       "  </thead>\n",
       "  <tbody>\n",
       "    <tr>\n",
       "      <th>0</th>\n",
       "      <td>10</td>\n",
       "      <td>1</td>\n",
       "      <td>1</td>\n",
       "      <td>92</td>\n",
       "      <td>0</td>\n",
       "      <td>Missing</td>\n",
       "      <td>343.000003</td>\n",
       "      <td>0</td>\n",
       "      <td>35.000427</td>\n",
       "      <td>0</td>\n",
       "      <td>...</td>\n",
       "      <td>343.000003</td>\n",
       "      <td>35.000004</td>\n",
       "      <td>43.000003</td>\n",
       "      <td>SB</td>\n",
       "      <td>314.000007</td>\n",
       "      <td>5.0</td>\n",
       "      <td>JR</td>\n",
       "      <td>0.0</td>\n",
       "      <td>Location 2</td>\n",
       "      <td>Free Practice 2</td>\n",
       "    </tr>\n",
       "    <tr>\n",
       "      <th>1</th>\n",
       "      <td>10</td>\n",
       "      <td>1</td>\n",
       "      <td>2</td>\n",
       "      <td>87</td>\n",
       "      <td>2</td>\n",
       "      <td>Missing</td>\n",
       "      <td>25.000674</td>\n",
       "      <td>2</td>\n",
       "      <td>33.000399</td>\n",
       "      <td>2</td>\n",
       "      <td>...</td>\n",
       "      <td>25.000007</td>\n",
       "      <td>33.000004</td>\n",
       "      <td>41.000009</td>\n",
       "      <td>SB</td>\n",
       "      <td>0.000000</td>\n",
       "      <td>5.0</td>\n",
       "      <td>JR</td>\n",
       "      <td>0.0</td>\n",
       "      <td>Location 2</td>\n",
       "      <td>Free Practice 2</td>\n",
       "    </tr>\n",
       "    <tr>\n",
       "      <th>2</th>\n",
       "      <td>10</td>\n",
       "      <td>1</td>\n",
       "      <td>3</td>\n",
       "      <td>73</td>\n",
       "      <td>0</td>\n",
       "      <td>B</td>\n",
       "      <td>28.000129</td>\n",
       "      <td>0</td>\n",
       "      <td>34.000091</td>\n",
       "      <td>0</td>\n",
       "      <td>...</td>\n",
       "      <td>28.000001</td>\n",
       "      <td>34.000001</td>\n",
       "      <td>57.000002</td>\n",
       "      <td>SB</td>\n",
       "      <td>0.000000</td>\n",
       "      <td>5.0</td>\n",
       "      <td>JR</td>\n",
       "      <td>0.0</td>\n",
       "      <td>Location 2</td>\n",
       "      <td>Free Practice 2</td>\n",
       "    </tr>\n",
       "    <tr>\n",
       "      <th>3</th>\n",
       "      <td>11</td>\n",
       "      <td>1</td>\n",
       "      <td>1</td>\n",
       "      <td>73</td>\n",
       "      <td>0</td>\n",
       "      <td>Missing</td>\n",
       "      <td>65.000000</td>\n",
       "      <td>0</td>\n",
       "      <td>38.000416</td>\n",
       "      <td>0</td>\n",
       "      <td>...</td>\n",
       "      <td>65.000000</td>\n",
       "      <td>38.000004</td>\n",
       "      <td>56.000008</td>\n",
       "      <td>LGRA</td>\n",
       "      <td>33.000000</td>\n",
       "      <td>5.0</td>\n",
       "      <td>AD</td>\n",
       "      <td>0.0</td>\n",
       "      <td>Location 2</td>\n",
       "      <td>Free Practice 2</td>\n",
       "    </tr>\n",
       "    <tr>\n",
       "      <th>4</th>\n",
       "      <td>11</td>\n",
       "      <td>1</td>\n",
       "      <td>2</td>\n",
       "      <td>73</td>\n",
       "      <td>0</td>\n",
       "      <td>Missing</td>\n",
       "      <td>28.000013</td>\n",
       "      <td>0</td>\n",
       "      <td>36.000743</td>\n",
       "      <td>0</td>\n",
       "      <td>...</td>\n",
       "      <td>28.000000</td>\n",
       "      <td>36.000007</td>\n",
       "      <td>44.000007</td>\n",
       "      <td>LGRA</td>\n",
       "      <td>0.000000</td>\n",
       "      <td>5.0</td>\n",
       "      <td>AD</td>\n",
       "      <td>0.0</td>\n",
       "      <td>Location 2</td>\n",
       "      <td>Free Practice 2</td>\n",
       "    </tr>\n",
       "  </tbody>\n",
       "</table>\n",
       "<p>5 rows × 25 columns</p>\n",
       "</div>"
      ],
      "text/plain": [
       "   NUMBER  DRIVER_NUMBER  LAP_NUMBER  LAP_TIME  LAP_IMPROVEMENT  \\\n",
       "0      10              1           1        92                0   \n",
       "1      10              1           2        87                2   \n",
       "2      10              1           3        73                0   \n",
       "3      11              1           1        73                0   \n",
       "4      11              1           2        73                0   \n",
       "\n",
       "  CROSSING_FINISH_LINE_IN_PIT          S1  S1_IMPROVEMENT         S2  \\\n",
       "0                     Missing  343.000003               0  35.000427   \n",
       "1                     Missing   25.000674               2  33.000399   \n",
       "2                           B   28.000129               0  34.000091   \n",
       "3                     Missing   65.000000               0  38.000416   \n",
       "4                     Missing   28.000013               0  36.000743   \n",
       "\n",
       "   S2_IMPROVEMENT  ...    S1_LARGE   S2_LARGE   S3_LARGE  DRIVER_NAME  \\\n",
       "0               0  ...  343.000003  35.000004  43.000003           SB   \n",
       "1               2  ...   25.000007  33.000004  41.000009           SB   \n",
       "2               0  ...   28.000001  34.000001  57.000002           SB   \n",
       "3               0  ...   65.000000  38.000004  56.000008         LGRA   \n",
       "4               0  ...   28.000000  36.000007  44.000007         LGRA   \n",
       "\n",
       "     PIT_TIME  GROUP  TEAM  POWER    LOCATION            EVENT  \n",
       "0  314.000007    5.0    JR    0.0  Location 2  Free Practice 2  \n",
       "1    0.000000    5.0    JR    0.0  Location 2  Free Practice 2  \n",
       "2    0.000000    5.0    JR    0.0  Location 2  Free Practice 2  \n",
       "3   33.000000    5.0    AD    0.0  Location 2  Free Practice 2  \n",
       "4    0.000000    5.0    AD    0.0  Location 2  Free Practice 2  \n",
       "\n",
       "[5 rows x 25 columns]"
      ]
     },
     "execution_count": 133,
     "metadata": {},
     "output_type": "execute_result"
    }
   ],
   "source": [
    "train.head()"
   ]
  },
  {
   "cell_type": "code",
   "execution_count": 134,
   "id": "13dd77f4",
   "metadata": {},
   "outputs": [],
   "source": [
    "data = pd.get_dummies(data)"
   ]
  },
  {
   "cell_type": "code",
   "execution_count": 135,
   "id": "b5cd9eff",
   "metadata": {},
   "outputs": [
    {
     "data": {
      "text/plain": [
       "(10696, 84)"
      ]
     },
     "execution_count": 135,
     "metadata": {},
     "output_type": "execute_result"
    }
   ],
   "source": [
    "data.shape"
   ]
  },
  {
   "cell_type": "code",
   "execution_count": 136,
   "id": "1f96e292",
   "metadata": {},
   "outputs": [],
   "source": [
    "train_data = data.iloc[:len(train)]"
   ]
  },
  {
   "cell_type": "code",
   "execution_count": 137,
   "id": "7ca2b297",
   "metadata": {},
   "outputs": [
    {
     "data": {
      "text/plain": [
       "(10276, 84)"
      ]
     },
     "execution_count": 137,
     "metadata": {},
     "output_type": "execute_result"
    }
   ],
   "source": [
    "train_data.shape"
   ]
  },
  {
   "cell_type": "code",
   "execution_count": 138,
   "id": "440136c1",
   "metadata": {},
   "outputs": [
    {
     "data": {
      "text/plain": [
       "420"
      ]
     },
     "execution_count": 138,
     "metadata": {},
     "output_type": "execute_result"
    }
   ],
   "source": [
    "len(test)"
   ]
  },
  {
   "cell_type": "code",
   "execution_count": 139,
   "id": "bb7864ba",
   "metadata": {},
   "outputs": [],
   "source": [
    "test_data = data.iloc[len(train):]"
   ]
  },
  {
   "cell_type": "code",
   "execution_count": 140,
   "id": "d28423a3",
   "metadata": {},
   "outputs": [
    {
     "data": {
      "text/plain": [
       "(420, 84)"
      ]
     },
     "execution_count": 140,
     "metadata": {},
     "output_type": "execute_result"
    }
   ],
   "source": [
    "test_data.shape"
   ]
  },
  {
   "cell_type": "code",
   "execution_count": 141,
   "id": "34519cee",
   "metadata": {},
   "outputs": [],
   "source": [
    "train1 = data.iloc[:len(train)]\n",
    "test1 = data.iloc[len(train):]"
   ]
  },
  {
   "cell_type": "code",
   "execution_count": 142,
   "id": "9b36657e",
   "metadata": {},
   "outputs": [],
   "source": [
    "train = train1\n",
    "test = test1"
   ]
  },
  {
   "cell_type": "code",
   "execution_count": 143,
   "id": "c244d810",
   "metadata": {},
   "outputs": [
    {
     "data": {
      "text/plain": [
       "(10276, 84)"
      ]
     },
     "execution_count": 143,
     "metadata": {},
     "output_type": "execute_result"
    }
   ],
   "source": [
    "train1.shape"
   ]
  },
  {
   "cell_type": "code",
   "execution_count": 144,
   "id": "872f9206",
   "metadata": {},
   "outputs": [
    {
     "data": {
      "text/plain": [
       "(420, 84)"
      ]
     },
     "execution_count": 144,
     "metadata": {},
     "output_type": "execute_result"
    }
   ],
   "source": [
    "test.shape"
   ]
  },
  {
   "cell_type": "code",
   "execution_count": 145,
   "id": "de008056",
   "metadata": {},
   "outputs": [],
   "source": [
    "#dummies_train = pd.get_dummies(train[['CROSSING_FINISH_LINE_IN_PIT','DRIVER_NAME','TEAM','LOCATION','EVENT']])\n",
    "#dummies_train.head()"
   ]
  },
  {
   "cell_type": "code",
   "execution_count": 146,
   "id": "3391a05f",
   "metadata": {},
   "outputs": [],
   "source": [
    "#dummies_test = pd.get_dummies(test[['CROSSING_FINISH_LINE_IN_PIT','DRIVER_NAME','TEAM','LOCATION','EVENT']])\n",
    "#dummies_test.head()"
   ]
  },
  {
   "cell_type": "code",
   "execution_count": 147,
   "id": "1030c95b",
   "metadata": {},
   "outputs": [],
   "source": [
    "#train = pd.concat([train,dummies_train], axis=1)\n",
    "#train = train.drop(['CROSSING_FINISH_LINE_IN_PIT','DRIVER_NAME','TEAM','LOCATION','EVENT'],axis=1)\n",
    "#test = pd.concat([test,dummies_test], axis=1)\n",
    "#test = test.drop(['CROSSING_FINISH_LINE_IN_PIT','DRIVER_NAME','TEAM','LOCATION','EVENT'],axis=1)"
   ]
  },
  {
   "cell_type": "code",
   "execution_count": 148,
   "id": "fb60beed",
   "metadata": {},
   "outputs": [
    {
     "data": {
      "text/html": [
       "<div>\n",
       "<style scoped>\n",
       "    .dataframe tbody tr th:only-of-type {\n",
       "        vertical-align: middle;\n",
       "    }\n",
       "\n",
       "    .dataframe tbody tr th {\n",
       "        vertical-align: top;\n",
       "    }\n",
       "\n",
       "    .dataframe thead th {\n",
       "        text-align: right;\n",
       "    }\n",
       "</style>\n",
       "<table border=\"1\" class=\"dataframe\">\n",
       "  <thead>\n",
       "    <tr style=\"text-align: right;\">\n",
       "      <th></th>\n",
       "      <th>NUMBER</th>\n",
       "      <th>DRIVER_NUMBER</th>\n",
       "      <th>LAP_NUMBER</th>\n",
       "      <th>LAP_TIME</th>\n",
       "      <th>LAP_IMPROVEMENT</th>\n",
       "      <th>S1</th>\n",
       "      <th>S1_IMPROVEMENT</th>\n",
       "      <th>S2</th>\n",
       "      <th>S2_IMPROVEMENT</th>\n",
       "      <th>S3</th>\n",
       "      <th>...</th>\n",
       "      <th>LOCATION_Location 6</th>\n",
       "      <th>LOCATION_Location 7</th>\n",
       "      <th>LOCATION_Location 8</th>\n",
       "      <th>EVENT_Free Practice 1</th>\n",
       "      <th>EVENT_Free Practice 2</th>\n",
       "      <th>EVENT_Free Practice 3</th>\n",
       "      <th>EVENT_Qualifying Group 1</th>\n",
       "      <th>EVENT_Qualifying Group 2</th>\n",
       "      <th>EVENT_Qualifying Group 3</th>\n",
       "      <th>EVENT_Qualifying Group 4</th>\n",
       "    </tr>\n",
       "  </thead>\n",
       "  <tbody>\n",
       "    <tr>\n",
       "      <th>0</th>\n",
       "      <td>-0.792090</td>\n",
       "      <td>0.0</td>\n",
       "      <td>-1.338218</td>\n",
       "      <td>NaN</td>\n",
       "      <td>-0.294972</td>\n",
       "      <td>0.152550</td>\n",
       "      <td>-0.293714</td>\n",
       "      <td>0.028429</td>\n",
       "      <td>-0.295266</td>\n",
       "      <td>-0.146804</td>\n",
       "      <td>...</td>\n",
       "      <td>0</td>\n",
       "      <td>1</td>\n",
       "      <td>0</td>\n",
       "      <td>0</td>\n",
       "      <td>0</td>\n",
       "      <td>0</td>\n",
       "      <td>1</td>\n",
       "      <td>0</td>\n",
       "      <td>0</td>\n",
       "      <td>0</td>\n",
       "    </tr>\n",
       "    <tr>\n",
       "      <th>1</th>\n",
       "      <td>-0.792090</td>\n",
       "      <td>0.0</td>\n",
       "      <td>-1.178586</td>\n",
       "      <td>NaN</td>\n",
       "      <td>-0.294972</td>\n",
       "      <td>-0.238432</td>\n",
       "      <td>-0.293714</td>\n",
       "      <td>-0.001507</td>\n",
       "      <td>-0.295266</td>\n",
       "      <td>-0.080657</td>\n",
       "      <td>...</td>\n",
       "      <td>0</td>\n",
       "      <td>1</td>\n",
       "      <td>0</td>\n",
       "      <td>0</td>\n",
       "      <td>0</td>\n",
       "      <td>0</td>\n",
       "      <td>1</td>\n",
       "      <td>0</td>\n",
       "      <td>0</td>\n",
       "      <td>0</td>\n",
       "    </tr>\n",
       "    <tr>\n",
       "      <th>2</th>\n",
       "      <td>-0.792090</td>\n",
       "      <td>0.0</td>\n",
       "      <td>-1.018954</td>\n",
       "      <td>NaN</td>\n",
       "      <td>3.024351</td>\n",
       "      <td>-0.265710</td>\n",
       "      <td>3.039516</td>\n",
       "      <td>-0.061363</td>\n",
       "      <td>3.020396</td>\n",
       "      <td>-0.175157</td>\n",
       "      <td>...</td>\n",
       "      <td>0</td>\n",
       "      <td>1</td>\n",
       "      <td>0</td>\n",
       "      <td>0</td>\n",
       "      <td>0</td>\n",
       "      <td>0</td>\n",
       "      <td>1</td>\n",
       "      <td>0</td>\n",
       "      <td>0</td>\n",
       "      <td>0</td>\n",
       "    </tr>\n",
       "    <tr>\n",
       "      <th>3</th>\n",
       "      <td>-0.685785</td>\n",
       "      <td>0.0</td>\n",
       "      <td>-1.338218</td>\n",
       "      <td>NaN</td>\n",
       "      <td>-0.294972</td>\n",
       "      <td>0.143457</td>\n",
       "      <td>-0.293714</td>\n",
       "      <td>0.028433</td>\n",
       "      <td>-0.295266</td>\n",
       "      <td>-0.146806</td>\n",
       "      <td>...</td>\n",
       "      <td>0</td>\n",
       "      <td>1</td>\n",
       "      <td>0</td>\n",
       "      <td>0</td>\n",
       "      <td>0</td>\n",
       "      <td>0</td>\n",
       "      <td>1</td>\n",
       "      <td>0</td>\n",
       "      <td>0</td>\n",
       "      <td>0</td>\n",
       "    </tr>\n",
       "    <tr>\n",
       "      <th>4</th>\n",
       "      <td>-0.685785</td>\n",
       "      <td>0.0</td>\n",
       "      <td>-1.178586</td>\n",
       "      <td>NaN</td>\n",
       "      <td>-0.294972</td>\n",
       "      <td>-0.229342</td>\n",
       "      <td>-0.293714</td>\n",
       "      <td>-0.001498</td>\n",
       "      <td>-0.295266</td>\n",
       "      <td>-0.099554</td>\n",
       "      <td>...</td>\n",
       "      <td>0</td>\n",
       "      <td>1</td>\n",
       "      <td>0</td>\n",
       "      <td>0</td>\n",
       "      <td>0</td>\n",
       "      <td>0</td>\n",
       "      <td>1</td>\n",
       "      <td>0</td>\n",
       "      <td>0</td>\n",
       "      <td>0</td>\n",
       "    </tr>\n",
       "    <tr>\n",
       "      <th>...</th>\n",
       "      <td>...</td>\n",
       "      <td>...</td>\n",
       "      <td>...</td>\n",
       "      <td>...</td>\n",
       "      <td>...</td>\n",
       "      <td>...</td>\n",
       "      <td>...</td>\n",
       "      <td>...</td>\n",
       "      <td>...</td>\n",
       "      <td>...</td>\n",
       "      <td>...</td>\n",
       "      <td>...</td>\n",
       "      <td>...</td>\n",
       "      <td>...</td>\n",
       "      <td>...</td>\n",
       "      <td>...</td>\n",
       "      <td>...</td>\n",
       "      <td>...</td>\n",
       "      <td>...</td>\n",
       "      <td>...</td>\n",
       "      <td>...</td>\n",
       "    </tr>\n",
       "    <tr>\n",
       "      <th>415</th>\n",
       "      <td>0.129221</td>\n",
       "      <td>0.0</td>\n",
       "      <td>-1.178586</td>\n",
       "      <td>NaN</td>\n",
       "      <td>3.024351</td>\n",
       "      <td>-0.283896</td>\n",
       "      <td>3.039516</td>\n",
       "      <td>-0.181088</td>\n",
       "      <td>3.020396</td>\n",
       "      <td>-0.212952</td>\n",
       "      <td>...</td>\n",
       "      <td>0</td>\n",
       "      <td>0</td>\n",
       "      <td>1</td>\n",
       "      <td>0</td>\n",
       "      <td>0</td>\n",
       "      <td>0</td>\n",
       "      <td>0</td>\n",
       "      <td>0</td>\n",
       "      <td>1</td>\n",
       "      <td>0</td>\n",
       "    </tr>\n",
       "    <tr>\n",
       "      <th>416</th>\n",
       "      <td>-0.969265</td>\n",
       "      <td>0.0</td>\n",
       "      <td>-1.338218</td>\n",
       "      <td>NaN</td>\n",
       "      <td>-0.294972</td>\n",
       "      <td>1.070916</td>\n",
       "      <td>-0.293714</td>\n",
       "      <td>-0.106262</td>\n",
       "      <td>-0.295266</td>\n",
       "      <td>-0.194051</td>\n",
       "      <td>...</td>\n",
       "      <td>0</td>\n",
       "      <td>0</td>\n",
       "      <td>1</td>\n",
       "      <td>0</td>\n",
       "      <td>0</td>\n",
       "      <td>0</td>\n",
       "      <td>0</td>\n",
       "      <td>0</td>\n",
       "      <td>1</td>\n",
       "      <td>0</td>\n",
       "    </tr>\n",
       "    <tr>\n",
       "      <th>417</th>\n",
       "      <td>-0.969265</td>\n",
       "      <td>0.0</td>\n",
       "      <td>-1.178586</td>\n",
       "      <td>NaN</td>\n",
       "      <td>6.343673</td>\n",
       "      <td>-0.283898</td>\n",
       "      <td>3.039516</td>\n",
       "      <td>-0.196038</td>\n",
       "      <td>3.020396</td>\n",
       "      <td>-0.212953</td>\n",
       "      <td>...</td>\n",
       "      <td>0</td>\n",
       "      <td>0</td>\n",
       "      <td>1</td>\n",
       "      <td>0</td>\n",
       "      <td>0</td>\n",
       "      <td>0</td>\n",
       "      <td>0</td>\n",
       "      <td>0</td>\n",
       "      <td>1</td>\n",
       "      <td>0</td>\n",
       "    </tr>\n",
       "    <tr>\n",
       "      <th>418</th>\n",
       "      <td>2.361627</td>\n",
       "      <td>0.0</td>\n",
       "      <td>-1.338218</td>\n",
       "      <td>NaN</td>\n",
       "      <td>-0.294972</td>\n",
       "      <td>0.989082</td>\n",
       "      <td>-0.293714</td>\n",
       "      <td>-0.166119</td>\n",
       "      <td>-0.295266</td>\n",
       "      <td>-0.175152</td>\n",
       "      <td>...</td>\n",
       "      <td>0</td>\n",
       "      <td>0</td>\n",
       "      <td>1</td>\n",
       "      <td>0</td>\n",
       "      <td>0</td>\n",
       "      <td>0</td>\n",
       "      <td>0</td>\n",
       "      <td>0</td>\n",
       "      <td>1</td>\n",
       "      <td>0</td>\n",
       "    </tr>\n",
       "    <tr>\n",
       "      <th>419</th>\n",
       "      <td>2.361627</td>\n",
       "      <td>0.0</td>\n",
       "      <td>-1.178586</td>\n",
       "      <td>NaN</td>\n",
       "      <td>3.024351</td>\n",
       "      <td>-0.283898</td>\n",
       "      <td>6.372746</td>\n",
       "      <td>-0.181086</td>\n",
       "      <td>3.020396</td>\n",
       "      <td>-0.212950</td>\n",
       "      <td>...</td>\n",
       "      <td>0</td>\n",
       "      <td>0</td>\n",
       "      <td>1</td>\n",
       "      <td>0</td>\n",
       "      <td>0</td>\n",
       "      <td>0</td>\n",
       "      <td>0</td>\n",
       "      <td>0</td>\n",
       "      <td>1</td>\n",
       "      <td>0</td>\n",
       "    </tr>\n",
       "  </tbody>\n",
       "</table>\n",
       "<p>420 rows × 84 columns</p>\n",
       "</div>"
      ],
      "text/plain": [
       "       NUMBER  DRIVER_NUMBER  LAP_NUMBER  LAP_TIME  LAP_IMPROVEMENT        S1  \\\n",
       "0   -0.792090            0.0   -1.338218       NaN        -0.294972  0.152550   \n",
       "1   -0.792090            0.0   -1.178586       NaN        -0.294972 -0.238432   \n",
       "2   -0.792090            0.0   -1.018954       NaN         3.024351 -0.265710   \n",
       "3   -0.685785            0.0   -1.338218       NaN        -0.294972  0.143457   \n",
       "4   -0.685785            0.0   -1.178586       NaN        -0.294972 -0.229342   \n",
       "..        ...            ...         ...       ...              ...       ...   \n",
       "415  0.129221            0.0   -1.178586       NaN         3.024351 -0.283896   \n",
       "416 -0.969265            0.0   -1.338218       NaN        -0.294972  1.070916   \n",
       "417 -0.969265            0.0   -1.178586       NaN         6.343673 -0.283898   \n",
       "418  2.361627            0.0   -1.338218       NaN        -0.294972  0.989082   \n",
       "419  2.361627            0.0   -1.178586       NaN         3.024351 -0.283898   \n",
       "\n",
       "     S1_IMPROVEMENT        S2  S2_IMPROVEMENT        S3  ...  \\\n",
       "0         -0.293714  0.028429       -0.295266 -0.146804  ...   \n",
       "1         -0.293714 -0.001507       -0.295266 -0.080657  ...   \n",
       "2          3.039516 -0.061363        3.020396 -0.175157  ...   \n",
       "3         -0.293714  0.028433       -0.295266 -0.146806  ...   \n",
       "4         -0.293714 -0.001498       -0.295266 -0.099554  ...   \n",
       "..              ...       ...             ...       ...  ...   \n",
       "415        3.039516 -0.181088        3.020396 -0.212952  ...   \n",
       "416       -0.293714 -0.106262       -0.295266 -0.194051  ...   \n",
       "417        3.039516 -0.196038        3.020396 -0.212953  ...   \n",
       "418       -0.293714 -0.166119       -0.295266 -0.175152  ...   \n",
       "419        6.372746 -0.181086        3.020396 -0.212950  ...   \n",
       "\n",
       "     LOCATION_Location 6  LOCATION_Location 7  LOCATION_Location 8  \\\n",
       "0                      0                    1                    0   \n",
       "1                      0                    1                    0   \n",
       "2                      0                    1                    0   \n",
       "3                      0                    1                    0   \n",
       "4                      0                    1                    0   \n",
       "..                   ...                  ...                  ...   \n",
       "415                    0                    0                    1   \n",
       "416                    0                    0                    1   \n",
       "417                    0                    0                    1   \n",
       "418                    0                    0                    1   \n",
       "419                    0                    0                    1   \n",
       "\n",
       "     EVENT_Free Practice 1  EVENT_Free Practice 2  EVENT_Free Practice 3  \\\n",
       "0                        0                      0                      0   \n",
       "1                        0                      0                      0   \n",
       "2                        0                      0                      0   \n",
       "3                        0                      0                      0   \n",
       "4                        0                      0                      0   \n",
       "..                     ...                    ...                    ...   \n",
       "415                      0                      0                      0   \n",
       "416                      0                      0                      0   \n",
       "417                      0                      0                      0   \n",
       "418                      0                      0                      0   \n",
       "419                      0                      0                      0   \n",
       "\n",
       "     EVENT_Qualifying Group 1  EVENT_Qualifying Group 2  \\\n",
       "0                           1                         0   \n",
       "1                           1                         0   \n",
       "2                           1                         0   \n",
       "3                           1                         0   \n",
       "4                           1                         0   \n",
       "..                        ...                       ...   \n",
       "415                         0                         0   \n",
       "416                         0                         0   \n",
       "417                         0                         0   \n",
       "418                         0                         0   \n",
       "419                         0                         0   \n",
       "\n",
       "     EVENT_Qualifying Group 3  EVENT_Qualifying Group 4  \n",
       "0                           0                         0  \n",
       "1                           0                         0  \n",
       "2                           0                         0  \n",
       "3                           0                         0  \n",
       "4                           0                         0  \n",
       "..                        ...                       ...  \n",
       "415                         1                         0  \n",
       "416                         1                         0  \n",
       "417                         1                         0  \n",
       "418                         1                         0  \n",
       "419                         1                         0  \n",
       "\n",
       "[420 rows x 84 columns]"
      ]
     },
     "execution_count": 148,
     "metadata": {},
     "output_type": "execute_result"
    }
   ],
   "source": [
    "test"
   ]
  },
  {
   "cell_type": "code",
   "execution_count": 149,
   "id": "33e576c6",
   "metadata": {},
   "outputs": [
    {
     "data": {
      "text/plain": [
       "84"
      ]
     },
     "execution_count": 149,
     "metadata": {},
     "output_type": "execute_result"
    }
   ],
   "source": [
    "len(test.columns)"
   ]
  },
  {
   "cell_type": "markdown",
   "id": "10e03c9a",
   "metadata": {},
   "source": [
    "## Model Selection, Building and Testing"
   ]
  },
  {
   "cell_type": "markdown",
   "id": "43fbffd9",
   "metadata": {},
   "source": [
    "### Linear Regression"
   ]
  },
  {
   "cell_type": "code",
   "execution_count": 150,
   "id": "eece8e39",
   "metadata": {},
   "outputs": [],
   "source": [
    "from sklearn.model_selection import train_test_split\n",
    "X = train.drop('LAP_TIME', axis=1)\n",
    "y = train['LAP_TIME']"
   ]
  },
  {
   "cell_type": "code",
   "execution_count": 151,
   "id": "64559c85",
   "metadata": {},
   "outputs": [
    {
     "data": {
      "text/plain": [
       "(10276, 83)"
      ]
     },
     "execution_count": 151,
     "metadata": {},
     "output_type": "execute_result"
    }
   ],
   "source": [
    "X.shape"
   ]
  },
  {
   "cell_type": "code",
   "execution_count": 152,
   "id": "2582a303",
   "metadata": {},
   "outputs": [
    {
     "data": {
      "text/plain": [
       "(10276,)"
      ]
     },
     "execution_count": 152,
     "metadata": {},
     "output_type": "execute_result"
    }
   ],
   "source": [
    "y.shape"
   ]
  },
  {
   "cell_type": "code",
   "execution_count": 153,
   "id": "797d6c7b",
   "metadata": {},
   "outputs": [],
   "source": [
    "X_train, X_test, y_train, y_test = train_test_split(X, y, test_size = 0.3)"
   ]
  },
  {
   "cell_type": "code",
   "execution_count": 154,
   "id": "83d5630a",
   "metadata": {},
   "outputs": [
    {
     "data": {
      "text/plain": [
       "(7193, 83)"
      ]
     },
     "execution_count": 154,
     "metadata": {},
     "output_type": "execute_result"
    }
   ],
   "source": [
    "X_train.shape"
   ]
  },
  {
   "cell_type": "code",
   "execution_count": 155,
   "id": "88a1c27f",
   "metadata": {},
   "outputs": [
    {
     "data": {
      "text/plain": [
       "(7193,)"
      ]
     },
     "execution_count": 155,
     "metadata": {},
     "output_type": "execute_result"
    }
   ],
   "source": [
    "y_train.shape"
   ]
  },
  {
   "cell_type": "code",
   "execution_count": 156,
   "id": "1041c1df",
   "metadata": {},
   "outputs": [
    {
     "data": {
      "text/plain": [
       "LinearRegression()"
      ]
     },
     "execution_count": 156,
     "metadata": {},
     "output_type": "execute_result"
    }
   ],
   "source": [
    "from sklearn.linear_model import LinearRegression\n",
    "\n",
    "regressor = LinearRegression(fit_intercept = True)\n",
    "regressor.fit(X_train, y_train)"
   ]
  },
  {
   "cell_type": "code",
   "execution_count": 157,
   "id": "7adb0057",
   "metadata": {},
   "outputs": [
    {
     "data": {
      "text/plain": [
       "Lasso()"
      ]
     },
     "execution_count": 157,
     "metadata": {},
     "output_type": "execute_result"
    }
   ],
   "source": [
    "from sklearn.linear_model import Lasso\n",
    "\n",
    "regressor = Lasso(fit_intercept = True)\n",
    "regressor.fit(X_train, y_train)"
   ]
  },
  {
   "cell_type": "code",
   "execution_count": 158,
   "id": "d0267d5e",
   "metadata": {},
   "outputs": [
    {
     "data": {
      "text/plain": [
       "(420, 84)"
      ]
     },
     "execution_count": 158,
     "metadata": {},
     "output_type": "execute_result"
    }
   ],
   "source": [
    "test.shape"
   ]
  },
  {
   "cell_type": "code",
   "execution_count": 159,
   "id": "3ce06ad7",
   "metadata": {},
   "outputs": [
    {
     "name": "stderr",
     "output_type": "stream",
     "text": [
      "C:\\Users\\sapan\\Anaconda3\\lib\\site-packages\\ipykernel_launcher.py:1: SettingWithCopyWarning: \n",
      "A value is trying to be set on a copy of a slice from a DataFrame.\n",
      "Try using .loc[row_indexer,col_indexer] = value instead\n",
      "\n",
      "See the caveats in the documentation: https://pandas.pydata.org/pandas-docs/stable/user_guide/indexing.html#returning-a-view-versus-a-copy\n",
      "  \"\"\"Entry point for launching an IPython kernel.\n",
      "C:\\Users\\sapan\\Anaconda3\\lib\\site-packages\\pandas\\core\\indexing.py:1835: SettingWithCopyWarning: \n",
      "A value is trying to be set on a copy of a slice from a DataFrame.\n",
      "Try using .loc[row_indexer,col_indexer] = value instead\n",
      "\n",
      "See the caveats in the documentation: https://pandas.pydata.org/pandas-docs/stable/user_guide/indexing.html#returning-a-view-versus-a-copy\n",
      "  self._setitem_single_column(loc, value[:, i].tolist(), pi)\n"
     ]
    }
   ],
   "source": [
    "test[:] = np.nan_to_num(test)"
   ]
  },
  {
   "cell_type": "code",
   "execution_count": 161,
   "id": "ad2034f8",
   "metadata": {},
   "outputs": [
    {
     "name": "stderr",
     "output_type": "stream",
     "text": [
      "C:\\Users\\sapan\\Anaconda3\\lib\\site-packages\\ipykernel_launcher.py:1: FutureWarning: In a future version of pandas all arguments of DataFrame.drop except for the argument 'labels' will be keyword-only\n",
      "  \"\"\"Entry point for launching an IPython kernel.\n"
     ]
    }
   ],
   "source": [
    "test = test.drop('LAP_TIME', 1)\n",
    "predicted = regressor.predict(test)\n",
    "actual = y_test"
   ]
  },
  {
   "cell_type": "code",
   "execution_count": 162,
   "id": "ed4c313e",
   "metadata": {},
   "outputs": [
    {
     "data": {
      "text/plain": [
       "420"
      ]
     },
     "execution_count": 162,
     "metadata": {},
     "output_type": "execute_result"
    }
   ],
   "source": [
    "len(predicted)"
   ]
  },
  {
   "cell_type": "code",
   "execution_count": 164,
   "id": "caba2adb",
   "metadata": {},
   "outputs": [],
   "source": [
    "from sklearn.metrics import mean_squared_log_error\n",
    "#np.sqrt(mean_squared_log_error(actual, predicted)) "
   ]
  },
  {
   "cell_type": "code",
   "execution_count": null,
   "id": "4ff4e2c7",
   "metadata": {},
   "outputs": [],
   "source": [
    "test['LAP_TIME'] = pd.Series(list(predicted))"
   ]
  },
  {
   "cell_type": "code",
   "execution_count": null,
   "id": "a3c2e7ff",
   "metadata": {},
   "outputs": [],
   "source": [
    "test['LAP_TIME'].head()"
   ]
  },
  {
   "cell_type": "code",
   "execution_count": null,
   "id": "68a96827",
   "metadata": {},
   "outputs": [],
   "source": [
    "test['LAP_TIME'].to_csv('submission_file_1.csv', index=False)"
   ]
  }
 ],
 "metadata": {
  "kernelspec": {
   "display_name": "Python 3 (ipykernel)",
   "language": "python",
   "name": "python3"
  },
  "language_info": {
   "codemirror_mode": {
    "name": "ipython",
    "version": 3
   },
   "file_extension": ".py",
   "mimetype": "text/x-python",
   "name": "python",
   "nbconvert_exporter": "python",
   "pygments_lexer": "ipython3",
   "version": "3.7.9"
  }
 },
 "nbformat": 4,
 "nbformat_minor": 5
}
